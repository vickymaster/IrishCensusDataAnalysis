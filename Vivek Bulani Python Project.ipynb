{
 "cells": [
  {
   "cell_type": "markdown",
   "id": "08abc24e",
   "metadata": {},
   "source": [
    "# STAT40800 Data Programming with Python (online)\n",
    "\n",
    "### Data Analysis Project"
   ]
  },
  {
   "cell_type": "markdown",
   "id": "5d7da5a7",
   "metadata": {},
   "source": [
    "### VIVEK MANMOHAN BULANI - 21205992"
   ]
  },
  {
   "cell_type": "markdown",
   "id": "b2e021fd",
   "metadata": {},
   "source": [
    " "
   ]
  },
  {
   "cell_type": "markdown",
   "id": "0219d2f5",
   "metadata": {},
   "source": [
    "## 1.  INTRODUCTION"
   ]
  },
  {
   "cell_type": "markdown",
   "id": "7f5bb570",
   "metadata": {},
   "source": [
    "The 2016 Irish Census Data is a collection of various features of the population of Ireland collected in 2016 by the Central Statistics Office (CSO). It is the information of each and every person present in Ireland on Census Night. It is conducted after every 5 years (in the years ending with 1 and 6). It helps the government/organizations to plan different community and national services for the betterment/upliftment of the country. The first fully successful census of Ireland was taken in the year of 1821. At that time, the enumerators used to carry notebooks with them and collect information of every individual. Then in 1841, this pattern was changed by introduction of forms and maps for information collection. This was the first modernisation in Census Data, hence it was also called Grear Census of 1841.\n",
    "\n",
    "The 2016 Census Data has been divided into a total of 15 themes, where each theme measures a different aspect of the papolation parameter. A few examples of themes are Theme 1: Sex, Age and Marital Status; Theme 2: Migration, Ethnicity, Religion and Foreign Languages; Theme 3: Irish Language and so on. All the themes together measure all the aspects of living of each person in Ireland. Apart from this division of data based on themes, the census data is also divided into 3 geographic levels :- county, electoral area and small area. \n",
    "\n",
    "For the following case study, the selected themes of interest are as follows:-\n",
    "\n",
    "* Theme 2: Migration, Ethnicity, Religion and Foreign Languages\n",
    "* Theme 3: Irish Language \n",
    "* Theme 4: Families \n",
    "* Theme 10: Education \n",
    "\n",
    "The Theme 2 describes the resident population based on their nationality, birthplace, ethnicity, culture, religion and language spoken. Theme 3 indicates the ability of population aged more than 2 years to speak Irish and their frequency of use of Irish language. Theme 4 measures various aspects of families in Ireland such as the family size, number of children in each family, the age of children in each family, number of parents living in the family. Theme 10 describes the intellectual parameter of the society, which is Eeducation / field of study. Under this theme, people who have ceased their education, who haven't ceased their academics, area/field of study by sex and highest level of education completed are studied.\n",
    "\n",
    "The primary aim of this research study is to analyse the data from above themes, draw some inferences about the population in terms of above parameters and hence conclude with few possible suggestions for the upliftment of the society. Keeping this in mind, efforts have been made to answer questions such as \"identify the trends in terms of field of study\" , \"understand the structure of families in various electoral areas of Ireland\" , \"does there exists (linear) relationship between the number of people speaking Irish and the country from where they come from?\". To achieve this, initially data preprocessing is performed, followed by regression method such as Linear Regression. Expected results include existence of relationship between nationality/birthplace of person and its ability to speak Irish language."
   ]
  },
  {
   "cell_type": "markdown",
   "id": "aaee5337",
   "metadata": {},
   "source": [
    "## 2.  DATA CLEANING / PREPROCESSING"
   ]
  },
  {
   "cell_type": "code",
   "execution_count": 1,
   "id": "02620507",
   "metadata": {},
   "outputs": [],
   "source": [
    "# Import all the necessary modules\n",
    "\n",
    "import numpy as np\n",
    "import pandas as pd\n",
    "from pandas import DataFrame, Series\n",
    "import matplotlib.pyplot as plt\n",
    "import seaborn as sns\n",
    "from sklearn import preprocessing\n",
    "from sklearn import metrics\n",
    "import statsmodels.api as sm\n",
    "from statsmodels.formula.api import ols\n",
    "import scipy.stats as stats\n",
    "from sklearn.model_selection import train_test_split\n",
    "from sklearn.linear_model import LinearRegression"
   ]
  },
  {
   "cell_type": "code",
   "execution_count": 2,
   "id": "de8fb8d5",
   "metadata": {},
   "outputs": [],
   "source": [
    "# store file path for importing the data\n",
    "\n",
    "path = \"/Users/vivekbulani/Documents/UCD Sem 1 Modules/UCD Python Module/Final Project/\""
   ]
  },
  {
   "cell_type": "code",
   "execution_count": 3,
   "id": "3ccb1dbf",
   "metadata": {},
   "outputs": [],
   "source": [
    "# import entire datasets for all 3 geographic levels\n",
    "\n",
    "census_county = pd.read_csv(path+\"Census_by_county.csv\", thousands=',')\n",
    "census_electoral = pd.read_csv(path+\"census_by_electoral_area.csv\", thousands=',')\n",
    "#census_small_area = pd.read_csv(path+\"Census_by_small_area.csv\", thousands=',')"
   ]
  },
  {
   "cell_type": "code",
   "execution_count": 4,
   "id": "32deb49c",
   "metadata": {
    "scrolled": true
   },
   "outputs": [
    {
     "data": {
      "text/html": [
       "<div>\n",
       "<style scoped>\n",
       "    .dataframe tbody tr th:only-of-type {\n",
       "        vertical-align: middle;\n",
       "    }\n",
       "\n",
       "    .dataframe tbody tr th {\n",
       "        vertical-align: top;\n",
       "    }\n",
       "\n",
       "    .dataframe thead th {\n",
       "        text-align: right;\n",
       "    }\n",
       "</style>\n",
       "<table border=\"1\" class=\"dataframe\">\n",
       "  <thead>\n",
       "    <tr style=\"text-align: right;\">\n",
       "      <th></th>\n",
       "      <th>GEOGDESC</th>\n",
       "    </tr>\n",
       "  </thead>\n",
       "  <tbody>\n",
       "    <tr>\n",
       "      <th>0</th>\n",
       "      <td>Cork City</td>\n",
       "    </tr>\n",
       "    <tr>\n",
       "      <th>1</th>\n",
       "      <td>Clare</td>\n",
       "    </tr>\n",
       "    <tr>\n",
       "      <th>2</th>\n",
       "      <td>Cork County</td>\n",
       "    </tr>\n",
       "    <tr>\n",
       "      <th>3</th>\n",
       "      <td>Cavan</td>\n",
       "    </tr>\n",
       "    <tr>\n",
       "      <th>4</th>\n",
       "      <td>Carlow</td>\n",
       "    </tr>\n",
       "    <tr>\n",
       "      <th>5</th>\n",
       "      <td>Dublin City</td>\n",
       "    </tr>\n",
       "    <tr>\n",
       "      <th>6</th>\n",
       "      <td>Donegal</td>\n",
       "    </tr>\n",
       "    <tr>\n",
       "      <th>7</th>\n",
       "      <td>D�n Laoghaire-Rathdown</td>\n",
       "    </tr>\n",
       "    <tr>\n",
       "      <th>8</th>\n",
       "      <td>Fingal</td>\n",
       "    </tr>\n",
       "    <tr>\n",
       "      <th>9</th>\n",
       "      <td>Galway City</td>\n",
       "    </tr>\n",
       "    <tr>\n",
       "      <th>10</th>\n",
       "      <td>Galway County</td>\n",
       "    </tr>\n",
       "    <tr>\n",
       "      <th>11</th>\n",
       "      <td>Kildare</td>\n",
       "    </tr>\n",
       "    <tr>\n",
       "      <th>12</th>\n",
       "      <td>Kilkenny</td>\n",
       "    </tr>\n",
       "    <tr>\n",
       "      <th>13</th>\n",
       "      <td>Kerry</td>\n",
       "    </tr>\n",
       "    <tr>\n",
       "      <th>14</th>\n",
       "      <td>Longford</td>\n",
       "    </tr>\n",
       "    <tr>\n",
       "      <th>15</th>\n",
       "      <td>Louth</td>\n",
       "    </tr>\n",
       "    <tr>\n",
       "      <th>16</th>\n",
       "      <td>Limerick City and County</td>\n",
       "    </tr>\n",
       "    <tr>\n",
       "      <th>17</th>\n",
       "      <td>Leitrim</td>\n",
       "    </tr>\n",
       "    <tr>\n",
       "      <th>18</th>\n",
       "      <td>Laois</td>\n",
       "    </tr>\n",
       "    <tr>\n",
       "      <th>19</th>\n",
       "      <td>Meath</td>\n",
       "    </tr>\n",
       "    <tr>\n",
       "      <th>20</th>\n",
       "      <td>Monaghan</td>\n",
       "    </tr>\n",
       "    <tr>\n",
       "      <th>21</th>\n",
       "      <td>Mayo</td>\n",
       "    </tr>\n",
       "    <tr>\n",
       "      <th>22</th>\n",
       "      <td>Offaly</td>\n",
       "    </tr>\n",
       "    <tr>\n",
       "      <th>23</th>\n",
       "      <td>Roscommon</td>\n",
       "    </tr>\n",
       "    <tr>\n",
       "      <th>24</th>\n",
       "      <td>South Dublin</td>\n",
       "    </tr>\n",
       "    <tr>\n",
       "      <th>25</th>\n",
       "      <td>Sligo</td>\n",
       "    </tr>\n",
       "    <tr>\n",
       "      <th>26</th>\n",
       "      <td>Tipperary</td>\n",
       "    </tr>\n",
       "    <tr>\n",
       "      <th>27</th>\n",
       "      <td>Waterford City and County</td>\n",
       "    </tr>\n",
       "    <tr>\n",
       "      <th>28</th>\n",
       "      <td>Westmeath</td>\n",
       "    </tr>\n",
       "    <tr>\n",
       "      <th>29</th>\n",
       "      <td>Wicklow</td>\n",
       "    </tr>\n",
       "    <tr>\n",
       "      <th>30</th>\n",
       "      <td>Wexford</td>\n",
       "    </tr>\n",
       "  </tbody>\n",
       "</table>\n",
       "</div>"
      ],
      "text/plain": [
       "                     GEOGDESC\n",
       "0                   Cork City\n",
       "1                       Clare\n",
       "2                 Cork County\n",
       "3                       Cavan\n",
       "4                      Carlow\n",
       "5                 Dublin City\n",
       "6                     Donegal\n",
       "7      D�n Laoghaire-Rathdown\n",
       "8                      Fingal\n",
       "9                 Galway City\n",
       "10              Galway County\n",
       "11                    Kildare\n",
       "12                   Kilkenny\n",
       "13                      Kerry\n",
       "14                   Longford\n",
       "15                      Louth\n",
       "16   Limerick City and County\n",
       "17                    Leitrim\n",
       "18                      Laois\n",
       "19                      Meath\n",
       "20                   Monaghan\n",
       "21                       Mayo\n",
       "22                     Offaly\n",
       "23                  Roscommon\n",
       "24               South Dublin\n",
       "25                      Sligo\n",
       "26                  Tipperary\n",
       "27  Waterford City and County\n",
       "28                  Westmeath\n",
       "29                    Wicklow\n",
       "30                    Wexford"
      ]
     },
     "execution_count": 4,
     "metadata": {},
     "output_type": "execute_result"
    }
   ],
   "source": [
    "# getting the list of all counties included in census data at county geographic level\n",
    "census_county[['GEOGDESC']]"
   ]
  },
  {
   "cell_type": "markdown",
   "id": "67d2aa26",
   "metadata": {},
   "source": [
    " "
   ]
  },
  {
   "cell_type": "markdown",
   "id": "33ff2a9a",
   "metadata": {},
   "source": [
    " "
   ]
  },
  {
   "cell_type": "markdown",
   "id": "94202f26",
   "metadata": {},
   "source": [
    "#### 2.1 Extracting Table1 of Theme3 i.e Ability to speak Irish - For County level data"
   ]
  },
  {
   "cell_type": "code",
   "execution_count": 5,
   "id": "9880b4c1",
   "metadata": {},
   "outputs": [],
   "source": [
    "Irish_speaking_population = census_county[['GEOGDESC' , 'T3_1YES' , 'T3_1NO' , 'T3_1NS' , 'T3_1T']]\n",
    "\n",
    "# renaming the column names for better understanding\n",
    "Irish_speaking_population = Irish_speaking_population.rename(columns={'T3_1YES':'Yes' , 'T3_1NO':'No' , 'T3_1NS':'Not_Stated' , 'T3_1T':'Total' , 'GEOGDESC':'County'})\n",
    "\n",
    "# setting the index of table to county names\n",
    "Irish_speaking_population = Irish_speaking_population.set_index('County')"
   ]
  },
  {
   "cell_type": "code",
   "execution_count": 6,
   "id": "9cfc0aad",
   "metadata": {},
   "outputs": [
    {
     "data": {
      "text/html": [
       "<div>\n",
       "<style scoped>\n",
       "    .dataframe tbody tr th:only-of-type {\n",
       "        vertical-align: middle;\n",
       "    }\n",
       "\n",
       "    .dataframe tbody tr th {\n",
       "        vertical-align: top;\n",
       "    }\n",
       "\n",
       "    .dataframe thead th {\n",
       "        text-align: right;\n",
       "    }\n",
       "</style>\n",
       "<table border=\"1\" class=\"dataframe\">\n",
       "  <thead>\n",
       "    <tr style=\"text-align: right;\">\n",
       "      <th></th>\n",
       "      <th>Yes</th>\n",
       "      <th>No</th>\n",
       "      <th>Not_Stated</th>\n",
       "      <th>Total</th>\n",
       "    </tr>\n",
       "    <tr>\n",
       "      <th>County</th>\n",
       "      <th></th>\n",
       "      <th></th>\n",
       "      <th></th>\n",
       "      <th></th>\n",
       "    </tr>\n",
       "  </thead>\n",
       "  <tbody>\n",
       "    <tr>\n",
       "      <th>Cork City</th>\n",
       "      <td>44822</td>\n",
       "      <td>72457</td>\n",
       "      <td>4555</td>\n",
       "      <td>121834</td>\n",
       "    </tr>\n",
       "    <tr>\n",
       "      <th>Clare</th>\n",
       "      <td>52482</td>\n",
       "      <td>58889</td>\n",
       "      <td>3001</td>\n",
       "      <td>114372</td>\n",
       "    </tr>\n",
       "    <tr>\n",
       "      <th>Cork County</th>\n",
       "      <td>179317</td>\n",
       "      <td>211657</td>\n",
       "      <td>8128</td>\n",
       "      <td>399102</td>\n",
       "    </tr>\n",
       "    <tr>\n",
       "      <th>Cavan</th>\n",
       "      <td>25210</td>\n",
       "      <td>46003</td>\n",
       "      <td>1657</td>\n",
       "      <td>72870</td>\n",
       "    </tr>\n",
       "    <tr>\n",
       "      <th>Carlow</th>\n",
       "      <td>20243</td>\n",
       "      <td>32896</td>\n",
       "      <td>1458</td>\n",
       "      <td>54597</td>\n",
       "    </tr>\n",
       "  </tbody>\n",
       "</table>\n",
       "</div>"
      ],
      "text/plain": [
       "                Yes      No  Not_Stated   Total\n",
       "County                                         \n",
       "Cork City     44822   72457        4555  121834\n",
       "Clare         52482   58889        3001  114372\n",
       "Cork County  179317  211657        8128  399102\n",
       "Cavan         25210   46003        1657   72870\n",
       "Carlow        20243   32896        1458   54597"
      ]
     },
     "execution_count": 6,
     "metadata": {},
     "output_type": "execute_result"
    }
   ],
   "source": [
    "# printing top 5 rows of the table formed\n",
    "\n",
    "Irish_speaking_population.head()"
   ]
  },
  {
   "cell_type": "code",
   "execution_count": 7,
   "id": "93f13693",
   "metadata": {
    "scrolled": true
   },
   "outputs": [
    {
     "data": {
      "text/plain": [
       "Yes           int64\n",
       "No            int64\n",
       "Not_Stated    int64\n",
       "Total         int64\n",
       "dtype: object"
      ]
     },
     "execution_count": 7,
     "metadata": {},
     "output_type": "execute_result"
    }
   ],
   "source": [
    "# checking the datatypes of all columns of the tables created\n",
    "\n",
    "Irish_speaking_population.dtypes"
   ]
  },
  {
   "cell_type": "markdown",
   "id": "343ac979",
   "metadata": {},
   "source": [
    "As all the columns are already of numeric datatype, hence no need of datatype conversion preprocessing."
   ]
  },
  {
   "cell_type": "code",
   "execution_count": 8,
   "id": "9784d5ac",
   "metadata": {
    "scrolled": true
   },
   "outputs": [
    {
     "data": {
      "text/plain": [
       "Yes           0\n",
       "No            0\n",
       "Not_Stated    0\n",
       "Total         0\n",
       "dtype: int64"
      ]
     },
     "execution_count": 8,
     "metadata": {},
     "output_type": "execute_result"
    }
   ],
   "source": [
    "# checking for presence of null/missing values in the table\n",
    "\n",
    "Irish_speaking_population.isna().sum()"
   ]
  },
  {
   "cell_type": "markdown",
   "id": "1deef744",
   "metadata": {},
   "source": [
    "Hence there are no missing / NA values in the table."
   ]
  },
  {
   "cell_type": "markdown",
   "id": "70a6fdfe",
   "metadata": {},
   "source": [
    " "
   ]
  },
  {
   "cell_type": "markdown",
   "id": "5583ef43",
   "metadata": {},
   "source": [
    "#### 2.2 Extracting Table1 of Theme2 i.e Resident population by place of birth and nationality - For County level data"
   ]
  },
  {
   "cell_type": "code",
   "execution_count": 9,
   "id": "1bdd845c",
   "metadata": {},
   "outputs": [],
   "source": [
    "Birthplace_and_Nationality = census_county[['GEOGDESC' , 'T2_1IEBP' , 'T2_1UKBP' , 'T2_1PLBP' , 'T2_1LTBP' , 'T2_1EUBP' , 'T2_1RWBP' , 'T2_1TBP' , 'T2_1IEN' , 'T2_1UKN' , 'T2_1PLN' , 'T2_1LTN' , 'T2_1EUN' , 'T2_1RWN' , 'T2_1NSN' , 'T2_1TN']]\n",
    "\n",
    "# renaming the column names for better understanding\n",
    "Birthplace_and_Nationality = Birthplace_and_Nationality.rename(columns={'GEOGDESC':'County' , 'T2_1IEBP':'Ireland_Birthplace' , 'T2_1UKBP':'UK_Birthplace' , 'T2_1PLBP':'Poland_Birthplace' , 'T2_1LTBP':'Lithuania_Birthplace' , 'T2_1EUBP':'Other_EU_Birthplace' , 'T2_1RWBP':'Rest_World_Birthplace' , 'T2_1TBP':'Total_Birthplace' , 'T2_1IEN':'Ireland_Nationality' , 'T2_1UKN':'UK_Nationality' , 'T2_1PLN':'Poland_Nationality' , 'T2_1LTN':'Lithuania_Nationality' , 'T2_1EUN':'Other_EU_Nationality' , 'T2_1RWN':'Rest_World_Nationality' , 'T2_1NSN':'Not_Stated_Nationality' , 'T2_1TN':'Total_Nationality'})\n",
    "\n",
    "# setting the index of table to county names\n",
    "Birthplace_and_Nationality = Birthplace_and_Nationality.set_index('County')"
   ]
  },
  {
   "cell_type": "code",
   "execution_count": 10,
   "id": "5bebce0a",
   "metadata": {},
   "outputs": [
    {
     "data": {
      "text/html": [
       "<div>\n",
       "<style scoped>\n",
       "    .dataframe tbody tr th:only-of-type {\n",
       "        vertical-align: middle;\n",
       "    }\n",
       "\n",
       "    .dataframe tbody tr th {\n",
       "        vertical-align: top;\n",
       "    }\n",
       "\n",
       "    .dataframe thead th {\n",
       "        text-align: right;\n",
       "    }\n",
       "</style>\n",
       "<table border=\"1\" class=\"dataframe\">\n",
       "  <thead>\n",
       "    <tr style=\"text-align: right;\">\n",
       "      <th></th>\n",
       "      <th>Ireland_Birthplace</th>\n",
       "      <th>UK_Birthplace</th>\n",
       "      <th>Poland_Birthplace</th>\n",
       "      <th>Lithuania_Birthplace</th>\n",
       "      <th>Other_EU_Birthplace</th>\n",
       "      <th>Rest_World_Birthplace</th>\n",
       "      <th>Total_Birthplace</th>\n",
       "      <th>Ireland_Nationality</th>\n",
       "      <th>UK_Nationality</th>\n",
       "      <th>Poland_Nationality</th>\n",
       "      <th>Lithuania_Nationality</th>\n",
       "      <th>Other_EU_Nationality</th>\n",
       "      <th>Rest_World_Nationality</th>\n",
       "      <th>Not_Stated_Nationality</th>\n",
       "      <th>Total_Nationality</th>\n",
       "    </tr>\n",
       "    <tr>\n",
       "      <th>County</th>\n",
       "      <th></th>\n",
       "      <th></th>\n",
       "      <th></th>\n",
       "      <th></th>\n",
       "      <th></th>\n",
       "      <th></th>\n",
       "      <th></th>\n",
       "      <th></th>\n",
       "      <th></th>\n",
       "      <th></th>\n",
       "      <th></th>\n",
       "      <th></th>\n",
       "      <th></th>\n",
       "      <th></th>\n",
       "      <th></th>\n",
       "    </tr>\n",
       "  </thead>\n",
       "  <tbody>\n",
       "    <tr>\n",
       "      <th>Cork City</th>\n",
       "      <td>100145</td>\n",
       "      <td>5092</td>\n",
       "      <td>3066</td>\n",
       "      <td>448</td>\n",
       "      <td>6461</td>\n",
       "      <td>7807</td>\n",
       "      <td>123019</td>\n",
       "      <td>103962</td>\n",
       "      <td>1856</td>\n",
       "      <td>3232</td>\n",
       "      <td>466</td>\n",
       "      <td>6580</td>\n",
       "      <td>5049</td>\n",
       "      <td>1874</td>\n",
       "      <td>123019</td>\n",
       "    </tr>\n",
       "    <tr>\n",
       "      <th>Clare</th>\n",
       "      <td>98420</td>\n",
       "      <td>7616</td>\n",
       "      <td>2684</td>\n",
       "      <td>333</td>\n",
       "      <td>2424</td>\n",
       "      <td>4983</td>\n",
       "      <td>116460</td>\n",
       "      <td>103829</td>\n",
       "      <td>3127</td>\n",
       "      <td>2844</td>\n",
       "      <td>362</td>\n",
       "      <td>2435</td>\n",
       "      <td>2302</td>\n",
       "      <td>1561</td>\n",
       "      <td>116460</td>\n",
       "    </tr>\n",
       "    <tr>\n",
       "      <th>Cork County</th>\n",
       "      <td>352452</td>\n",
       "      <td>22176</td>\n",
       "      <td>12378</td>\n",
       "      <td>2094</td>\n",
       "      <td>9967</td>\n",
       "      <td>13759</td>\n",
       "      <td>412826</td>\n",
       "      <td>366614</td>\n",
       "      <td>10774</td>\n",
       "      <td>13060</td>\n",
       "      <td>2254</td>\n",
       "      <td>9544</td>\n",
       "      <td>6218</td>\n",
       "      <td>4362</td>\n",
       "      <td>412826</td>\n",
       "    </tr>\n",
       "    <tr>\n",
       "      <th>Cavan</th>\n",
       "      <td>62173</td>\n",
       "      <td>5414</td>\n",
       "      <td>2009</td>\n",
       "      <td>1301</td>\n",
       "      <td>1717</td>\n",
       "      <td>2706</td>\n",
       "      <td>75320</td>\n",
       "      <td>65609</td>\n",
       "      <td>2041</td>\n",
       "      <td>2189</td>\n",
       "      <td>1433</td>\n",
       "      <td>1755</td>\n",
       "      <td>1396</td>\n",
       "      <td>897</td>\n",
       "      <td>75320</td>\n",
       "    </tr>\n",
       "    <tr>\n",
       "      <th>Carlow</th>\n",
       "      <td>48368</td>\n",
       "      <td>2588</td>\n",
       "      <td>2121</td>\n",
       "      <td>231</td>\n",
       "      <td>1443</td>\n",
       "      <td>1725</td>\n",
       "      <td>56476</td>\n",
       "      <td>49654</td>\n",
       "      <td>1107</td>\n",
       "      <td>2277</td>\n",
       "      <td>239</td>\n",
       "      <td>1438</td>\n",
       "      <td>871</td>\n",
       "      <td>890</td>\n",
       "      <td>56476</td>\n",
       "    </tr>\n",
       "  </tbody>\n",
       "</table>\n",
       "</div>"
      ],
      "text/plain": [
       "             Ireland_Birthplace  UK_Birthplace  Poland_Birthplace  \\\n",
       "County                                                              \n",
       "Cork City                100145           5092               3066   \n",
       "Clare                     98420           7616               2684   \n",
       "Cork County              352452          22176              12378   \n",
       "Cavan                     62173           5414               2009   \n",
       "Carlow                    48368           2588               2121   \n",
       "\n",
       "             Lithuania_Birthplace  Other_EU_Birthplace  Rest_World_Birthplace  \\\n",
       "County                                                                          \n",
       "Cork City                     448                 6461                   7807   \n",
       "Clare                         333                 2424                   4983   \n",
       "Cork County                  2094                 9967                  13759   \n",
       "Cavan                        1301                 1717                   2706   \n",
       "Carlow                        231                 1443                   1725   \n",
       "\n",
       "             Total_Birthplace  Ireland_Nationality  UK_Nationality  \\\n",
       "County                                                               \n",
       "Cork City              123019               103962            1856   \n",
       "Clare                  116460               103829            3127   \n",
       "Cork County            412826               366614           10774   \n",
       "Cavan                   75320                65609            2041   \n",
       "Carlow                  56476                49654            1107   \n",
       "\n",
       "             Poland_Nationality  Lithuania_Nationality  Other_EU_Nationality  \\\n",
       "County                                                                         \n",
       "Cork City                  3232                    466                  6580   \n",
       "Clare                      2844                    362                  2435   \n",
       "Cork County               13060                   2254                  9544   \n",
       "Cavan                      2189                   1433                  1755   \n",
       "Carlow                     2277                    239                  1438   \n",
       "\n",
       "             Rest_World_Nationality  Not_Stated_Nationality  Total_Nationality  \n",
       "County                                                                          \n",
       "Cork City                      5049                    1874             123019  \n",
       "Clare                          2302                    1561             116460  \n",
       "Cork County                    6218                    4362             412826  \n",
       "Cavan                          1396                     897              75320  \n",
       "Carlow                          871                     890              56476  "
      ]
     },
     "execution_count": 10,
     "metadata": {},
     "output_type": "execute_result"
    }
   ],
   "source": [
    "# printing top 5 rows of the table formed\n",
    "\n",
    "Birthplace_and_Nationality.head()"
   ]
  },
  {
   "cell_type": "code",
   "execution_count": 11,
   "id": "cdfe9dbe",
   "metadata": {
    "scrolled": true
   },
   "outputs": [
    {
     "data": {
      "text/plain": [
       "Ireland_Birthplace        int64\n",
       "UK_Birthplace             int64\n",
       "Poland_Birthplace         int64\n",
       "Lithuania_Birthplace      int64\n",
       "Other_EU_Birthplace       int64\n",
       "Rest_World_Birthplace     int64\n",
       "Total_Birthplace          int64\n",
       "Ireland_Nationality       int64\n",
       "UK_Nationality            int64\n",
       "Poland_Nationality        int64\n",
       "Lithuania_Nationality     int64\n",
       "Other_EU_Nationality      int64\n",
       "Rest_World_Nationality    int64\n",
       "Not_Stated_Nationality    int64\n",
       "Total_Nationality         int64\n",
       "dtype: object"
      ]
     },
     "execution_count": 11,
     "metadata": {},
     "output_type": "execute_result"
    }
   ],
   "source": [
    "# checking the datatypes of all columns of the tables created\n",
    "\n",
    "Birthplace_and_Nationality.dtypes"
   ]
  },
  {
   "cell_type": "markdown",
   "id": "6af79954",
   "metadata": {},
   "source": [
    "As all the columns are already of numeric datatype, hence no need of datatype conversion preprocessing."
   ]
  },
  {
   "cell_type": "markdown",
   "id": "da02e842",
   "metadata": {},
   "source": [
    " "
   ]
  },
  {
   "cell_type": "markdown",
   "id": "abc464f8",
   "metadata": {},
   "source": [
    " "
   ]
  },
  {
   "cell_type": "code",
   "execution_count": 12,
   "id": "f5720bd1",
   "metadata": {
    "scrolled": true
   },
   "outputs": [
    {
     "data": {
      "text/plain": [
       "Ireland_Birthplace        0\n",
       "UK_Birthplace             0\n",
       "Poland_Birthplace         0\n",
       "Lithuania_Birthplace      0\n",
       "Other_EU_Birthplace       0\n",
       "Rest_World_Birthplace     0\n",
       "Total_Birthplace          0\n",
       "Ireland_Nationality       0\n",
       "UK_Nationality            0\n",
       "Poland_Nationality        0\n",
       "Lithuania_Nationality     0\n",
       "Other_EU_Nationality      0\n",
       "Rest_World_Nationality    0\n",
       "Not_Stated_Nationality    0\n",
       "Total_Nationality         0\n",
       "dtype: int64"
      ]
     },
     "execution_count": 12,
     "metadata": {},
     "output_type": "execute_result"
    }
   ],
   "source": [
    "# checking for presence of null/missing values in the table\n",
    "\n",
    "Birthplace_and_Nationality.isna().sum() "
   ]
  },
  {
   "cell_type": "markdown",
   "id": "15dce266",
   "metadata": {},
   "source": [
    "Hence there are no missing / NA values in the table."
   ]
  },
  {
   "cell_type": "markdown",
   "id": "83533a0e",
   "metadata": {},
   "source": [
    " "
   ]
  },
  {
   "cell_type": "markdown",
   "id": "f1e021c5",
   "metadata": {},
   "source": [
    " "
   ]
  },
  {
   "cell_type": "markdown",
   "id": "7b70ef4a",
   "metadata": {},
   "source": [
    " "
   ]
  },
  {
   "cell_type": "markdown",
   "id": "ae27a255",
   "metadata": {},
   "source": [
    "#### 2.3 Extracting Table3 of Theme10 i.e Field of Study of different Individuals - For Electoral level data "
   ]
  },
  {
   "cell_type": "code",
   "execution_count": 13,
   "id": "72adf7be",
   "metadata": {},
   "outputs": [],
   "source": [
    "Education_background = census_electoral[['GEOGDESC', 'T10_3_EDUM', 'T10_3_ARTM', 'T10_3_HUMM', 'T10_3_SOCM', 'T10_3_SCIM', 'T10_3_ENGM', 'T10_3_AGRM', 'T10_3_HEAM', 'T10_3_SERM', 'T10_3_OTHM', 'T10_3_NSM', 'T10_3_TM', 'T10_3_EDUF', 'T10_3_ARTF', 'T10_3_HUMF', 'T10_3_SOCF', 'T10_3_SCIF', 'T10_3_ENGF', 'T10_3_AGRF', 'T10_3_HEAF', 'T10_3_SERF', 'T10_3_OTHF', 'T10_3_NSF', 'T10_3_TF', 'T10_3_NST', 'T10_3_TT']]\n",
    "\n",
    "# renaming the column names for better understanding\n",
    "Education_background = Education_background.rename(columns={'GEOGDESC':'Electoral_Area', 'T10_3_EDUM':'Education_teacher_training_Males', 'T10_3_ARTM':'Arts_Males', 'T10_3_HUMM':'Humanities_Males', 'T10_3_SOCM':'Social_sciences_business_law_Males', 'T10_3_SCIM':'Science_mathematics_computing_Males', 'T10_3_ENGM':'Engineering_manufacturing_construction_Males', 'T10_3_AGRM':'Agriculture_veterinary_Males', 'T10_3_HEAM':'Health_welfare_Males', 'T10_3_SERM':'Services_Males', 'T10_3_OTHM':'Other_Males', 'T10_3_NSM':'Not_Stated_Males', 'T10_3_TM':'Total_Males', 'T10_3_EDUF':'Education_teacher_training_Females', 'T10_3_ARTF':'Arts_Females', 'T10_3_HUMF':'Humanities_Females', 'T10_3_SOCF':'Social_sciences_business_law_Females', 'T10_3_SCIF':'Science_mathematics_computing_Females', 'T10_3_ENGF':'Engineering_manufacturing_construction_Females', 'T10_3_AGRF':'Agriculture_veterinary_Females', 'T10_3_HEAF':'Health_welfare_Females', 'T10_3_SERF':'Services_Females', 'T10_3_OTHF':'Other_Females', 'T10_3_NSF':'Not_Stated_Females', 'T10_3_TF':'Total_Females', 'T10_3_NST':\"Not_Stated_Total\", 'T10_3_TT':'Total'})\n",
    "\n",
    "# setting the index of table to Electoral Area name\n",
    "Education_background = Education_background.set_index('Electoral_Area')"
   ]
  },
  {
   "cell_type": "code",
   "execution_count": 14,
   "id": "6065cf04",
   "metadata": {
    "scrolled": true
   },
   "outputs": [
    {
     "data": {
      "text/html": [
       "<div>\n",
       "<style scoped>\n",
       "    .dataframe tbody tr th:only-of-type {\n",
       "        vertical-align: middle;\n",
       "    }\n",
       "\n",
       "    .dataframe tbody tr th {\n",
       "        vertical-align: top;\n",
       "    }\n",
       "\n",
       "    .dataframe thead th {\n",
       "        text-align: right;\n",
       "    }\n",
       "</style>\n",
       "<table border=\"1\" class=\"dataframe\">\n",
       "  <thead>\n",
       "    <tr style=\"text-align: right;\">\n",
       "      <th></th>\n",
       "      <th>Education_teacher_training_Males</th>\n",
       "      <th>Arts_Males</th>\n",
       "      <th>Humanities_Males</th>\n",
       "      <th>Social_sciences_business_law_Males</th>\n",
       "      <th>Science_mathematics_computing_Males</th>\n",
       "      <th>Engineering_manufacturing_construction_Males</th>\n",
       "      <th>Agriculture_veterinary_Males</th>\n",
       "      <th>Health_welfare_Males</th>\n",
       "      <th>Services_Males</th>\n",
       "      <th>Other_Males</th>\n",
       "      <th>...</th>\n",
       "      <th>Science_mathematics_computing_Females</th>\n",
       "      <th>Engineering_manufacturing_construction_Females</th>\n",
       "      <th>Agriculture_veterinary_Females</th>\n",
       "      <th>Health_welfare_Females</th>\n",
       "      <th>Services_Females</th>\n",
       "      <th>Other_Females</th>\n",
       "      <th>Not_Stated_Females</th>\n",
       "      <th>Total_Females</th>\n",
       "      <th>Not_Stated_Total</th>\n",
       "      <th>Total</th>\n",
       "    </tr>\n",
       "    <tr>\n",
       "      <th>Electoral_Area</th>\n",
       "      <th></th>\n",
       "      <th></th>\n",
       "      <th></th>\n",
       "      <th></th>\n",
       "      <th></th>\n",
       "      <th></th>\n",
       "      <th></th>\n",
       "      <th></th>\n",
       "      <th></th>\n",
       "      <th></th>\n",
       "      <th></th>\n",
       "      <th></th>\n",
       "      <th></th>\n",
       "      <th></th>\n",
       "      <th></th>\n",
       "      <th></th>\n",
       "      <th></th>\n",
       "      <th></th>\n",
       "      <th></th>\n",
       "      <th></th>\n",
       "      <th></th>\n",
       "    </tr>\n",
       "  </thead>\n",
       "  <tbody>\n",
       "    <tr>\n",
       "      <th>Adare - Rathkeale</th>\n",
       "      <td>156</td>\n",
       "      <td>84</td>\n",
       "      <td>96</td>\n",
       "      <td>762</td>\n",
       "      <td>339</td>\n",
       "      <td>1812</td>\n",
       "      <td>706</td>\n",
       "      <td>161</td>\n",
       "      <td>262</td>\n",
       "      <td>7</td>\n",
       "      <td>...</td>\n",
       "      <td>350</td>\n",
       "      <td>120</td>\n",
       "      <td>122</td>\n",
       "      <td>1296</td>\n",
       "      <td>440</td>\n",
       "      <td>9</td>\n",
       "      <td>4499</td>\n",
       "      <td>9269</td>\n",
       "      <td>9216</td>\n",
       "      <td>18371</td>\n",
       "    </tr>\n",
       "    <tr>\n",
       "      <th>Ardee</th>\n",
       "      <td>132</td>\n",
       "      <td>118</td>\n",
       "      <td>68</td>\n",
       "      <td>703</td>\n",
       "      <td>358</td>\n",
       "      <td>1828</td>\n",
       "      <td>468</td>\n",
       "      <td>244</td>\n",
       "      <td>284</td>\n",
       "      <td>9</td>\n",
       "      <td>...</td>\n",
       "      <td>286</td>\n",
       "      <td>126</td>\n",
       "      <td>92</td>\n",
       "      <td>1381</td>\n",
       "      <td>554</td>\n",
       "      <td>10</td>\n",
       "      <td>4570</td>\n",
       "      <td>9273</td>\n",
       "      <td>9639</td>\n",
       "      <td>18554</td>\n",
       "    </tr>\n",
       "    <tr>\n",
       "      <th>Arklow</th>\n",
       "      <td>87</td>\n",
       "      <td>164</td>\n",
       "      <td>99</td>\n",
       "      <td>694</td>\n",
       "      <td>386</td>\n",
       "      <td>1383</td>\n",
       "      <td>427</td>\n",
       "      <td>132</td>\n",
       "      <td>256</td>\n",
       "      <td>10</td>\n",
       "      <td>...</td>\n",
       "      <td>310</td>\n",
       "      <td>102</td>\n",
       "      <td>104</td>\n",
       "      <td>1001</td>\n",
       "      <td>458</td>\n",
       "      <td>14</td>\n",
       "      <td>4372</td>\n",
       "      <td>8524</td>\n",
       "      <td>9167</td>\n",
       "      <td>16957</td>\n",
       "    </tr>\n",
       "    <tr>\n",
       "      <th>Ashbourne</th>\n",
       "      <td>143</td>\n",
       "      <td>183</td>\n",
       "      <td>168</td>\n",
       "      <td>1066</td>\n",
       "      <td>444</td>\n",
       "      <td>1757</td>\n",
       "      <td>426</td>\n",
       "      <td>172</td>\n",
       "      <td>356</td>\n",
       "      <td>7</td>\n",
       "      <td>...</td>\n",
       "      <td>305</td>\n",
       "      <td>156</td>\n",
       "      <td>94</td>\n",
       "      <td>1120</td>\n",
       "      <td>618</td>\n",
       "      <td>15</td>\n",
       "      <td>4226</td>\n",
       "      <td>9384</td>\n",
       "      <td>8557</td>\n",
       "      <td>18437</td>\n",
       "    </tr>\n",
       "    <tr>\n",
       "      <th>Athenry - Oranmore</th>\n",
       "      <td>250</td>\n",
       "      <td>127</td>\n",
       "      <td>173</td>\n",
       "      <td>1227</td>\n",
       "      <td>810</td>\n",
       "      <td>2335</td>\n",
       "      <td>518</td>\n",
       "      <td>254</td>\n",
       "      <td>385</td>\n",
       "      <td>14</td>\n",
       "      <td>...</td>\n",
       "      <td>621</td>\n",
       "      <td>219</td>\n",
       "      <td>81</td>\n",
       "      <td>1628</td>\n",
       "      <td>656</td>\n",
       "      <td>14</td>\n",
       "      <td>4211</td>\n",
       "      <td>11200</td>\n",
       "      <td>8975</td>\n",
       "      <td>22057</td>\n",
       "    </tr>\n",
       "  </tbody>\n",
       "</table>\n",
       "<p>5 rows × 26 columns</p>\n",
       "</div>"
      ],
      "text/plain": [
       "                    Education_teacher_training_Males  Arts_Males  \\\n",
       "Electoral_Area                                                     \n",
       "Adare - Rathkeale                                156          84   \n",
       "Ardee                                            132         118   \n",
       "Arklow                                            87         164   \n",
       "Ashbourne                                        143         183   \n",
       "Athenry - Oranmore                               250         127   \n",
       "\n",
       "                    Humanities_Males  Social_sciences_business_law_Males  \\\n",
       "Electoral_Area                                                             \n",
       "Adare - Rathkeale                 96                                 762   \n",
       "Ardee                             68                                 703   \n",
       "Arklow                            99                                 694   \n",
       "Ashbourne                        168                                1066   \n",
       "Athenry - Oranmore               173                                1227   \n",
       "\n",
       "                    Science_mathematics_computing_Males  \\\n",
       "Electoral_Area                                            \n",
       "Adare - Rathkeale                                   339   \n",
       "Ardee                                               358   \n",
       "Arklow                                              386   \n",
       "Ashbourne                                           444   \n",
       "Athenry - Oranmore                                  810   \n",
       "\n",
       "                    Engineering_manufacturing_construction_Males  \\\n",
       "Electoral_Area                                                     \n",
       "Adare - Rathkeale                                           1812   \n",
       "Ardee                                                       1828   \n",
       "Arklow                                                      1383   \n",
       "Ashbourne                                                   1757   \n",
       "Athenry - Oranmore                                          2335   \n",
       "\n",
       "                    Agriculture_veterinary_Males  Health_welfare_Males  \\\n",
       "Electoral_Area                                                           \n",
       "Adare - Rathkeale                            706                   161   \n",
       "Ardee                                        468                   244   \n",
       "Arklow                                       427                   132   \n",
       "Ashbourne                                    426                   172   \n",
       "Athenry - Oranmore                           518                   254   \n",
       "\n",
       "                    Services_Males  Other_Males  ...  \\\n",
       "Electoral_Area                                   ...   \n",
       "Adare - Rathkeale              262            7  ...   \n",
       "Ardee                          284            9  ...   \n",
       "Arklow                         256           10  ...   \n",
       "Ashbourne                      356            7  ...   \n",
       "Athenry - Oranmore             385           14  ...   \n",
       "\n",
       "                    Science_mathematics_computing_Females  \\\n",
       "Electoral_Area                                              \n",
       "Adare - Rathkeale                                     350   \n",
       "Ardee                                                 286   \n",
       "Arklow                                                310   \n",
       "Ashbourne                                             305   \n",
       "Athenry - Oranmore                                    621   \n",
       "\n",
       "                    Engineering_manufacturing_construction_Females  \\\n",
       "Electoral_Area                                                       \n",
       "Adare - Rathkeale                                              120   \n",
       "Ardee                                                          126   \n",
       "Arklow                                                         102   \n",
       "Ashbourne                                                      156   \n",
       "Athenry - Oranmore                                             219   \n",
       "\n",
       "                    Agriculture_veterinary_Females  Health_welfare_Females  \\\n",
       "Electoral_Area                                                               \n",
       "Adare - Rathkeale                              122                    1296   \n",
       "Ardee                                           92                    1381   \n",
       "Arklow                                         104                    1001   \n",
       "Ashbourne                                       94                    1120   \n",
       "Athenry - Oranmore                              81                    1628   \n",
       "\n",
       "                    Services_Females  Other_Females  Not_Stated_Females  \\\n",
       "Electoral_Area                                                            \n",
       "Adare - Rathkeale                440              9                4499   \n",
       "Ardee                            554             10                4570   \n",
       "Arklow                           458             14                4372   \n",
       "Ashbourne                        618             15                4226   \n",
       "Athenry - Oranmore               656             14                4211   \n",
       "\n",
       "                    Total_Females  Not_Stated_Total  Total  \n",
       "Electoral_Area                                              \n",
       "Adare - Rathkeale            9269              9216  18371  \n",
       "Ardee                        9273              9639  18554  \n",
       "Arklow                       8524              9167  16957  \n",
       "Ashbourne                    9384              8557  18437  \n",
       "Athenry - Oranmore          11200              8975  22057  \n",
       "\n",
       "[5 rows x 26 columns]"
      ]
     },
     "execution_count": 14,
     "metadata": {},
     "output_type": "execute_result"
    }
   ],
   "source": [
    "# printing top 5 rows of the table formed\n",
    "\n",
    "Education_background.head()"
   ]
  },
  {
   "cell_type": "markdown",
   "id": "563145ff",
   "metadata": {},
   "source": [
    " "
   ]
  },
  {
   "cell_type": "code",
   "execution_count": 15,
   "id": "264d7fc0",
   "metadata": {
    "scrolled": true
   },
   "outputs": [
    {
     "data": {
      "text/plain": [
       "Education_teacher_training_Males                  int64\n",
       "Arts_Males                                        int64\n",
       "Humanities_Males                                  int64\n",
       "Social_sciences_business_law_Males                int64\n",
       "Science_mathematics_computing_Males               int64\n",
       "Engineering_manufacturing_construction_Males      int64\n",
       "Agriculture_veterinary_Males                      int64\n",
       "Health_welfare_Males                              int64\n",
       "Services_Males                                    int64\n",
       "Other_Males                                       int64\n",
       "Not_Stated_Males                                  int64\n",
       "Total_Males                                       int64\n",
       "Education_teacher_training_Females                int64\n",
       "Arts_Females                                      int64\n",
       "Humanities_Females                                int64\n",
       "Social_sciences_business_law_Females              int64\n",
       "Science_mathematics_computing_Females             int64\n",
       "Engineering_manufacturing_construction_Females    int64\n",
       "Agriculture_veterinary_Females                    int64\n",
       "Health_welfare_Females                            int64\n",
       "Services_Females                                  int64\n",
       "Other_Females                                     int64\n",
       "Not_Stated_Females                                int64\n",
       "Total_Females                                     int64\n",
       "Not_Stated_Total                                  int64\n",
       "Total                                             int64\n",
       "dtype: object"
      ]
     },
     "execution_count": 15,
     "metadata": {},
     "output_type": "execute_result"
    }
   ],
   "source": [
    "# checking the datatypes of all columns of the tables created\n",
    "\n",
    "Education_background.dtypes"
   ]
  },
  {
   "cell_type": "markdown",
   "id": "d20a3ad5",
   "metadata": {},
   "source": [
    "As all the columns are already of numeric datatype, hence no need of datatype conversion preprocessing."
   ]
  },
  {
   "cell_type": "markdown",
   "id": "f2c2a011",
   "metadata": {},
   "source": [
    " "
   ]
  },
  {
   "cell_type": "code",
   "execution_count": 16,
   "id": "b4959756",
   "metadata": {
    "scrolled": true
   },
   "outputs": [
    {
     "data": {
      "text/plain": [
       "Education_teacher_training_Males                  0\n",
       "Arts_Males                                        0\n",
       "Humanities_Males                                  0\n",
       "Social_sciences_business_law_Males                0\n",
       "Science_mathematics_computing_Males               0\n",
       "Engineering_manufacturing_construction_Males      0\n",
       "Agriculture_veterinary_Males                      0\n",
       "Health_welfare_Males                              0\n",
       "Services_Males                                    0\n",
       "Other_Males                                       0\n",
       "Not_Stated_Males                                  0\n",
       "Total_Males                                       0\n",
       "Education_teacher_training_Females                0\n",
       "Arts_Females                                      0\n",
       "Humanities_Females                                0\n",
       "Social_sciences_business_law_Females              0\n",
       "Science_mathematics_computing_Females             0\n",
       "Engineering_manufacturing_construction_Females    0\n",
       "Agriculture_veterinary_Females                    0\n",
       "Health_welfare_Females                            0\n",
       "Services_Females                                  0\n",
       "Other_Females                                     0\n",
       "Not_Stated_Females                                0\n",
       "Total_Females                                     0\n",
       "Not_Stated_Total                                  0\n",
       "Total                                             0\n",
       "dtype: int64"
      ]
     },
     "execution_count": 16,
     "metadata": {},
     "output_type": "execute_result"
    }
   ],
   "source": [
    "# checking for presence of null/missing values in the table\n",
    "\n",
    "Education_background.isna().sum()"
   ]
  },
  {
   "cell_type": "markdown",
   "id": "fb4abe43",
   "metadata": {},
   "source": [
    "Hence there are no missing / NA values in the table."
   ]
  },
  {
   "cell_type": "markdown",
   "id": "cdc7a07c",
   "metadata": {},
   "source": [
    " "
   ]
  },
  {
   "cell_type": "markdown",
   "id": "e6cd908d",
   "metadata": {},
   "source": [
    " "
   ]
  },
  {
   "cell_type": "markdown",
   "id": "cdc7a07c",
   "metadata": {},
   "source": [
    "#### 2.4 Extracting Table1 of Theme4 i.e Families by size of Family - For Electoral level data "
   ]
  },
  {
   "cell_type": "code",
   "execution_count": 17,
   "id": "f214b820",
   "metadata": {},
   "outputs": [],
   "source": [
    "Family_size =  census_electoral[['GEOGDESC', 'T4_1_2PF', 'T4_1_3PF', 'T4_1_4PF', 'T4_1_5PF', 'T4_1_GRE_6PF', 'T4_1_TF']]\n",
    "\n",
    "# renaming the column names for better understanding\n",
    "Family_size = Family_size.rename(columns={'GEOGDESC':'Electoral_Area', 'T4_1_2PF':'2_persons', 'T4_1_3PF':'3_persons', 'T4_1_4PF':'4_persons', 'T4_1_5PF':'5_persons', 'T4_1_GRE_6PF':'6_or_more_persons', 'T4_1_TF':'Total_persons'})\n",
    "\n",
    "# setting the index of table to Electoral Area name\n",
    "Family_size = Family_size.set_index('Electoral_Area')"
   ]
  },
  {
   "cell_type": "code",
   "execution_count": 18,
   "id": "79f47ca2",
   "metadata": {},
   "outputs": [
    {
     "data": {
      "text/html": [
       "<div>\n",
       "<style scoped>\n",
       "    .dataframe tbody tr th:only-of-type {\n",
       "        vertical-align: middle;\n",
       "    }\n",
       "\n",
       "    .dataframe tbody tr th {\n",
       "        vertical-align: top;\n",
       "    }\n",
       "\n",
       "    .dataframe thead th {\n",
       "        text-align: right;\n",
       "    }\n",
       "</style>\n",
       "<table border=\"1\" class=\"dataframe\">\n",
       "  <thead>\n",
       "    <tr style=\"text-align: right;\">\n",
       "      <th></th>\n",
       "      <th>2_persons</th>\n",
       "      <th>3_persons</th>\n",
       "      <th>4_persons</th>\n",
       "      <th>5_persons</th>\n",
       "      <th>6_or_more_persons</th>\n",
       "      <th>Total_persons</th>\n",
       "    </tr>\n",
       "    <tr>\n",
       "      <th>Electoral_Area</th>\n",
       "      <th></th>\n",
       "      <th></th>\n",
       "      <th></th>\n",
       "      <th></th>\n",
       "      <th></th>\n",
       "      <th></th>\n",
       "    </tr>\n",
       "  </thead>\n",
       "  <tbody>\n",
       "    <tr>\n",
       "      <th>Adare - Rathkeale</th>\n",
       "      <td>2783</td>\n",
       "      <td>1546</td>\n",
       "      <td>1746</td>\n",
       "      <td>994</td>\n",
       "      <td>363</td>\n",
       "      <td>7432</td>\n",
       "    </tr>\n",
       "    <tr>\n",
       "      <th>Ardee</th>\n",
       "      <td>2714</td>\n",
       "      <td>1713</td>\n",
       "      <td>1890</td>\n",
       "      <td>1047</td>\n",
       "      <td>375</td>\n",
       "      <td>7739</td>\n",
       "    </tr>\n",
       "    <tr>\n",
       "      <th>Arklow</th>\n",
       "      <td>2750</td>\n",
       "      <td>1633</td>\n",
       "      <td>1560</td>\n",
       "      <td>790</td>\n",
       "      <td>306</td>\n",
       "      <td>7039</td>\n",
       "    </tr>\n",
       "    <tr>\n",
       "      <th>Ashbourne</th>\n",
       "      <td>2562</td>\n",
       "      <td>1775</td>\n",
       "      <td>2055</td>\n",
       "      <td>990</td>\n",
       "      <td>318</td>\n",
       "      <td>7700</td>\n",
       "    </tr>\n",
       "    <tr>\n",
       "      <th>Athenry - Oranmore</th>\n",
       "      <td>3254</td>\n",
       "      <td>1962</td>\n",
       "      <td>2341</td>\n",
       "      <td>1288</td>\n",
       "      <td>474</td>\n",
       "      <td>9319</td>\n",
       "    </tr>\n",
       "  </tbody>\n",
       "</table>\n",
       "</div>"
      ],
      "text/plain": [
       "                    2_persons  3_persons  4_persons  5_persons  \\\n",
       "Electoral_Area                                                   \n",
       "Adare - Rathkeale        2783       1546       1746        994   \n",
       "Ardee                    2714       1713       1890       1047   \n",
       "Arklow                   2750       1633       1560        790   \n",
       "Ashbourne                2562       1775       2055        990   \n",
       "Athenry - Oranmore       3254       1962       2341       1288   \n",
       "\n",
       "                    6_or_more_persons  Total_persons  \n",
       "Electoral_Area                                        \n",
       "Adare - Rathkeale                 363           7432  \n",
       "Ardee                             375           7739  \n",
       "Arklow                            306           7039  \n",
       "Ashbourne                         318           7700  \n",
       "Athenry - Oranmore                474           9319  "
      ]
     },
     "execution_count": 18,
     "metadata": {},
     "output_type": "execute_result"
    }
   ],
   "source": [
    "# printing top 5 rows of the table formed\n",
    "\n",
    "Family_size.head()"
   ]
  },
  {
   "cell_type": "code",
   "execution_count": 19,
   "id": "0be5ffed",
   "metadata": {
    "scrolled": true
   },
   "outputs": [
    {
     "data": {
      "text/plain": [
       "2_persons            int64\n",
       "3_persons            int64\n",
       "4_persons            int64\n",
       "5_persons            int64\n",
       "6_or_more_persons    int64\n",
       "Total_persons        int64\n",
       "dtype: object"
      ]
     },
     "execution_count": 19,
     "metadata": {},
     "output_type": "execute_result"
    }
   ],
   "source": [
    "# checking the datatypes of all columns of the tables created\n",
    "\n",
    "Family_size.dtypes"
   ]
  },
  {
   "cell_type": "markdown",
   "id": "bf911c0d",
   "metadata": {},
   "source": [
    "As all the columns are already of numeric datatype, hence no need of datatype conversion preprocessing."
   ]
  },
  {
   "cell_type": "markdown",
   "id": "cdc7a07c",
   "metadata": {},
   "source": [
    " "
   ]
  },
  {
   "cell_type": "code",
   "execution_count": 20,
   "id": "652a3b43",
   "metadata": {},
   "outputs": [
    {
     "data": {
      "text/plain": [
       "2_persons            0\n",
       "3_persons            0\n",
       "4_persons            0\n",
       "5_persons            0\n",
       "6_or_more_persons    0\n",
       "Total_persons        0\n",
       "dtype: int64"
      ]
     },
     "execution_count": 20,
     "metadata": {},
     "output_type": "execute_result"
    }
   ],
   "source": [
    "# checking for presence of null/missing values in the table\n",
    "\n",
    "Family_size.isna().sum()"
   ]
  },
  {
   "cell_type": "markdown",
   "id": "084bc064",
   "metadata": {},
   "source": [
    "Hence there are no missing / NA values in the table."
   ]
  },
  {
   "cell_type": "markdown",
   "id": "cdc7a07c",
   "metadata": {},
   "source": [
    " "
   ]
  },
  {
   "cell_type": "markdown",
   "id": "cdc7a07c",
   "metadata": {},
   "source": [
    " "
   ]
  },
  {
   "cell_type": "markdown",
   "id": "517f3290",
   "metadata": {},
   "source": [
    "## 3.  EXPLORATORY DATA ANALYSIS"
   ]
  },
  {
   "cell_type": "markdown",
   "id": "fc500530",
   "metadata": {},
   "source": [
    "#### 3.1 Analysing Irish_speaking_population table "
   ]
  },
  {
   "cell_type": "code",
   "execution_count": 21,
   "id": "6375e943",
   "metadata": {
    "scrolled": false
   },
   "outputs": [
    {
     "data": {
      "text/html": [
       "<div>\n",
       "<style scoped>\n",
       "    .dataframe tbody tr th:only-of-type {\n",
       "        vertical-align: middle;\n",
       "    }\n",
       "\n",
       "    .dataframe tbody tr th {\n",
       "        vertical-align: top;\n",
       "    }\n",
       "\n",
       "    .dataframe thead th {\n",
       "        text-align: right;\n",
       "    }\n",
       "</style>\n",
       "<table border=\"1\" class=\"dataframe\">\n",
       "  <thead>\n",
       "    <tr style=\"text-align: right;\">\n",
       "      <th></th>\n",
       "      <th>Yes</th>\n",
       "      <th>No</th>\n",
       "      <th>Not_Stated</th>\n",
       "      <th>Total</th>\n",
       "    </tr>\n",
       "  </thead>\n",
       "  <tbody>\n",
       "    <tr>\n",
       "      <th>count</th>\n",
       "      <td>31.000000</td>\n",
       "      <td>31.000000</td>\n",
       "      <td>31.000000</td>\n",
       "      <td>31.000000</td>\n",
       "    </tr>\n",
       "    <tr>\n",
       "      <th>mean</th>\n",
       "      <td>56820.000000</td>\n",
       "      <td>86062.741935</td>\n",
       "      <td>4512.774194</td>\n",
       "      <td>147395.516129</td>\n",
       "    </tr>\n",
       "    <tr>\n",
       "      <th>std</th>\n",
       "      <td>38287.421603</td>\n",
       "      <td>65723.586516</td>\n",
       "      <td>6140.336205</td>\n",
       "      <td>107344.901889</td>\n",
       "    </tr>\n",
       "    <tr>\n",
       "      <th>min</th>\n",
       "      <td>12300.000000</td>\n",
       "      <td>17676.000000</td>\n",
       "      <td>795.000000</td>\n",
       "      <td>30771.000000</td>\n",
       "    </tr>\n",
       "    <tr>\n",
       "      <th>25%</th>\n",
       "      <td>29473.500000</td>\n",
       "      <td>45443.500000</td>\n",
       "      <td>1783.500000</td>\n",
       "      <td>75238.000000</td>\n",
       "    </tr>\n",
       "    <tr>\n",
       "      <th>50%</th>\n",
       "      <td>49955.000000</td>\n",
       "      <td>72457.000000</td>\n",
       "      <td>3117.000000</td>\n",
       "      <td>123406.000000</td>\n",
       "    </tr>\n",
       "    <tr>\n",
       "      <th>75%</th>\n",
       "      <td>74538.000000</td>\n",
       "      <td>98281.500000</td>\n",
       "      <td>4468.500000</td>\n",
       "      <td>179035.500000</td>\n",
       "    </tr>\n",
       "    <tr>\n",
       "      <th>max</th>\n",
       "      <td>179317.000000</td>\n",
       "      <td>344099.000000</td>\n",
       "      <td>35244.000000</td>\n",
       "      <td>535779.000000</td>\n",
       "    </tr>\n",
       "  </tbody>\n",
       "</table>\n",
       "</div>"
      ],
      "text/plain": [
       "                 Yes             No    Not_Stated          Total\n",
       "count      31.000000      31.000000     31.000000      31.000000\n",
       "mean    56820.000000   86062.741935   4512.774194  147395.516129\n",
       "std     38287.421603   65723.586516   6140.336205  107344.901889\n",
       "min     12300.000000   17676.000000    795.000000   30771.000000\n",
       "25%     29473.500000   45443.500000   1783.500000   75238.000000\n",
       "50%     49955.000000   72457.000000   3117.000000  123406.000000\n",
       "75%     74538.000000   98281.500000   4468.500000  179035.500000\n",
       "max    179317.000000  344099.000000  35244.000000  535779.000000"
      ]
     },
     "execution_count": 21,
     "metadata": {},
     "output_type": "execute_result"
    }
   ],
   "source": [
    "# printing the summary statistics of the tables (such as minimum, maximum, mean, median, quantiles, etc) \n",
    "\n",
    "Irish_speaking_population.describe()"
   ]
  },
  {
   "cell_type": "code",
   "execution_count": 22,
   "id": "52029c69",
   "metadata": {},
   "outputs": [
    {
     "data": {
      "text/plain": [
       "<AxesSubplot:>"
      ]
     },
     "execution_count": 22,
     "metadata": {},
     "output_type": "execute_result"
    },
    {
     "data": {
      "image/png": "[encoded data removed]",
      "text/plain": [
       "<Figure size 432x288 with 1 Axes>"
      ]
     },
     "metadata": {
      "needs_background": "light"
     },
     "output_type": "display_data"
    }
   ],
   "source": [
    "Irish_speaking_population.boxplot(column=[\"Yes\",\"No\"], fontsize=13)"
   ]
  },
  {
   "cell_type": "code",
   "execution_count": 23,
   "id": "1cb49a58",
   "metadata": {},
   "outputs": [
    {
     "data": {
      "text/plain": [
       "<AxesSubplot:>"
      ]
     },
     "execution_count": 23,
     "metadata": {},
     "output_type": "execute_result"
    },
    {
     "data": {
      "image/png": "[encoded data removed]",
      "text/plain": [
       "<Figure size 432x288 with 1 Axes>"
      ]
     },
     "metadata": {
      "needs_background": "light"
     },
     "output_type": "display_data"
    }
   ],
   "source": [
    "Irish_speaking_population.boxplot(column=\"Not_Stated\", fontsize=13)"
   ]
  },
  {
   "cell_type": "code",
   "execution_count": 24,
   "id": "0c635616",
   "metadata": {},
   "outputs": [
    {
     "data": {
      "text/plain": [
       "<AxesSubplot:>"
      ]
     },
     "execution_count": 24,
     "metadata": {},
     "output_type": "execute_result"
    },
    {
     "data": {
      "image/png": "[encoded data removed]",
      "text/plain": [
       "<Figure size 432x288 with 1 Axes>"
      ]
     },
     "metadata": {
      "needs_background": "light"
     },
     "output_type": "display_data"
    }
   ],
   "source": [
    "Irish_speaking_population.boxplot(column=\"Total\", fontsize=13)"
   ]
  },
  {
   "cell_type": "code",
   "execution_count": 25,
   "id": "85baf0e7",
   "metadata": {},
   "outputs": [
    {
     "data": {
      "text/html": [
       "<div>\n",
       "<style scoped>\n",
       "    .dataframe tbody tr th:only-of-type {\n",
       "        vertical-align: middle;\n",
       "    }\n",
       "\n",
       "    .dataframe tbody tr th {\n",
       "        vertical-align: top;\n",
       "    }\n",
       "\n",
       "    .dataframe thead th {\n",
       "        text-align: right;\n",
       "    }\n",
       "</style>\n",
       "<table border=\"1\" class=\"dataframe\">\n",
       "  <thead>\n",
       "    <tr style=\"text-align: right;\">\n",
       "      <th></th>\n",
       "      <th>Yes</th>\n",
       "      <th>No</th>\n",
       "      <th>Not_Stated</th>\n",
       "      <th>Total</th>\n",
       "    </tr>\n",
       "    <tr>\n",
       "      <th>County</th>\n",
       "      <th></th>\n",
       "      <th></th>\n",
       "      <th></th>\n",
       "      <th></th>\n",
       "    </tr>\n",
       "  </thead>\n",
       "  <tbody>\n",
       "    <tr>\n",
       "      <th>Cork County</th>\n",
       "      <td>179317</td>\n",
       "      <td>211657</td>\n",
       "      <td>8128</td>\n",
       "      <td>399102</td>\n",
       "    </tr>\n",
       "    <tr>\n",
       "      <th>Dublin City</th>\n",
       "      <td>156436</td>\n",
       "      <td>344099</td>\n",
       "      <td>35244</td>\n",
       "      <td>535779</td>\n",
       "    </tr>\n",
       "  </tbody>\n",
       "</table>\n",
       "</div>"
      ],
      "text/plain": [
       "                Yes      No  Not_Stated   Total\n",
       "County                                         \n",
       "Cork County  179317  211657        8128  399102\n",
       "Dublin City  156436  344099       35244  535779"
      ]
     },
     "execution_count": 25,
     "metadata": {},
     "output_type": "execute_result"
    }
   ],
   "source": [
    "Irish_speaking_population[Irish_speaking_population['Yes']>150000]"
   ]
  },
  {
   "cell_type": "code",
   "execution_count": 26,
   "id": "bf71fd82",
   "metadata": {
    "scrolled": true
   },
   "outputs": [
    {
     "data": {
      "text/plain": [
       "County\n",
       "Galway County                0.489917\n",
       "Clare                        0.458871\n",
       "Cork County                  0.449301\n",
       "Mayo                         0.438573\n",
       "Kerry                        0.431929\n",
       "Tipperary                    0.426829\n",
       "Roscommon                    0.416351\n",
       "Limerick City and County     0.412975\n",
       "Galway City                  0.410823\n",
       "Kilkenny                     0.407026\n",
       "Waterford City and County    0.405568\n",
       "Kildare                      0.402044\n",
       "Laois                        0.401486\n",
       "Leitrim                      0.399727\n",
       "Sligo                        0.399296\n",
       "D�n Laoghaire-Rathdown       0.396350\n",
       "Meath                        0.385605\n",
       "Westmeath                    0.379050\n",
       "Monaghan                     0.376080\n",
       "Offaly                       0.372364\n",
       "Donegal                      0.370902\n",
       "Carlow                       0.370771\n",
       "Cork City                    0.367894\n",
       "Wicklow                      0.365625\n",
       "Longford                     0.359174\n",
       "Fingal                       0.358446\n",
       "Wexford                      0.356432\n",
       "Cavan                        0.345959\n",
       "South Dublin                 0.341112\n",
       "Louth                        0.340721\n",
       "Dublin City                  0.291979\n",
       "dtype: float64"
      ]
     },
     "execution_count": 26,
     "metadata": {},
     "output_type": "execute_result"
    }
   ],
   "source": [
    "(Irish_speaking_population['Yes']/Irish_speaking_population['Total']).sort_values(ascending=False)"
   ]
  },
  {
   "cell_type": "markdown",
   "id": "1419d2c8",
   "metadata": {},
   "source": [
    "* From above outputs of describe( ) and boxplots, we can see that minimum number of people who speak Irish in any county is 12300 and maximum is 179317 (which is for County Cork). Second highest area with largest number of Irish speaking population is Dublin City.\n",
    "\n",
    "* If we check the proportion of people who speak Irish in each county, then we see Galway has the highest proportion with approximately 50% people staying there speaking Irish. Dublin City has the lowest with only approx 30% people speaking Irish. This might be because most of the foreigners who come to Ireland stay in Dublin City. Hence despite being largely populated, it has not highest number of Irish speaking individuals. Rather there maybe high mixture of people from different countries.\n",
    "\n",
    "* 25% counties have less than 29473 Irish speaking population. and 75% counties have less than 74538 Irish speaking people.\n",
    "\n",
    "* As compared to number of individuals either speaking Irish or not, there are considerable amount of people whose status for Irish speaking is not stated. This might be because maybe people don't want to tell whether they know Irish or not."
   ]
  },
  {
   "cell_type": "markdown",
   "id": "da02e842",
   "metadata": {},
   "source": [
    " "
   ]
  },
  {
   "cell_type": "markdown",
   "id": "da02e842",
   "metadata": {},
   "source": [
    " "
   ]
  },
  {
   "cell_type": "code",
   "execution_count": 27,
   "id": "ce2aae3c",
   "metadata": {},
   "outputs": [
    {
     "data": {
      "text/plain": [
       "Text(0.5, 1.0, 'Histogram of Irish Speaking Population in different County regions')"
      ]
     },
     "execution_count": 27,
     "metadata": {},
     "output_type": "execute_result"
    },
    {
     "data": {
      "image/png": "[encoded data removed]",
      "text/plain": [
       "<Figure size 432x288 with 1 Axes>"
      ]
     },
     "metadata": {
      "needs_background": "light"
     },
     "output_type": "display_data"
    }
   ],
   "source": [
    "Irish_speaking_population['Yes'].hist(bins=30)\n",
    "plt.xlabel(\"Total number of people speaking Irish\",size=13)\n",
    "plt.ylabel(\"Frequency\",size=13)\n",
    "plt.title(\"Histogram of Irish Speaking Population in different County regions\")"
   ]
  },
  {
   "cell_type": "markdown",
   "id": "41234fb2",
   "metadata": {},
   "source": [
    "From above histogram, we can see that Total Irish speaking population has a Right Skewed Distribution with 2 extreme outliers on right. "
   ]
  },
  {
   "cell_type": "markdown",
   "id": "ee793ac5",
   "metadata": {},
   "source": [
    " "
   ]
  },
  {
   "cell_type": "markdown",
   "id": "ee793ac5",
   "metadata": {},
   "source": [
    " "
   ]
  },
  {
   "cell_type": "markdown",
   "id": "9d03dd04",
   "metadata": {},
   "source": [
    "#### 3.2 Analysing Birthplace_and_Nationality table  "
   ]
  },
  {
   "cell_type": "code",
   "execution_count": 28,
   "id": "db428ae5",
   "metadata": {},
   "outputs": [
    {
     "data": {
      "text/html": [
       "<div>\n",
       "<style scoped>\n",
       "    .dataframe tbody tr th:only-of-type {\n",
       "        vertical-align: middle;\n",
       "    }\n",
       "\n",
       "    .dataframe tbody tr th {\n",
       "        vertical-align: top;\n",
       "    }\n",
       "\n",
       "    .dataframe thead th {\n",
       "        text-align: right;\n",
       "    }\n",
       "</style>\n",
       "<table border=\"1\" class=\"dataframe\">\n",
       "  <thead>\n",
       "    <tr style=\"text-align: right;\">\n",
       "      <th></th>\n",
       "      <th>Ireland_Birthplace</th>\n",
       "      <th>UK_Birthplace</th>\n",
       "      <th>Poland_Birthplace</th>\n",
       "      <th>Lithuania_Birthplace</th>\n",
       "      <th>Other_EU_Birthplace</th>\n",
       "      <th>Rest_World_Birthplace</th>\n",
       "      <th>Total_Birthplace</th>\n",
       "      <th>Ireland_Nationality</th>\n",
       "      <th>UK_Nationality</th>\n",
       "      <th>Poland_Nationality</th>\n",
       "      <th>Lithuania_Nationality</th>\n",
       "      <th>Other_EU_Nationality</th>\n",
       "      <th>Rest_World_Nationality</th>\n",
       "      <th>Not_Stated_Nationality</th>\n",
       "      <th>Total_Nationality</th>\n",
       "    </tr>\n",
       "  </thead>\n",
       "  <tbody>\n",
       "    <tr>\n",
       "      <th>count</th>\n",
       "      <td>31.000000</td>\n",
       "      <td>31.000000</td>\n",
       "      <td>31.000000</td>\n",
       "      <td>31.000000</td>\n",
       "      <td>31.000000</td>\n",
       "      <td>31.000000</td>\n",
       "      <td>31.000000</td>\n",
       "      <td>31.000000</td>\n",
       "      <td>31.000000</td>\n",
       "      <td>31.000000</td>\n",
       "      <td>31.000000</td>\n",
       "      <td>31.000000</td>\n",
       "      <td>31.000000</td>\n",
       "      <td>31.000000</td>\n",
       "      <td>31.000000</td>\n",
       "    </tr>\n",
       "    <tr>\n",
       "      <th>mean</th>\n",
       "      <td>125145.645161</td>\n",
       "      <td>8942.129032</td>\n",
       "      <td>3714.870968</td>\n",
       "      <td>1075.612903</td>\n",
       "      <td>4686.516129</td>\n",
       "      <td>7723.000000</td>\n",
       "      <td>151287.774194</td>\n",
       "      <td>131693.967742</td>\n",
       "      <td>3326.225806</td>\n",
       "      <td>3952.096774</td>\n",
       "      <td>1179.096774</td>\n",
       "      <td>4733.483871</td>\n",
       "      <td>4082.483871</td>\n",
       "      <td>2320.419355</td>\n",
       "      <td>151287.774194</td>\n",
       "    </tr>\n",
       "    <tr>\n",
       "      <th>std</th>\n",
       "      <td>87702.414023</td>\n",
       "      <td>5691.959597</td>\n",
       "      <td>2911.176208</td>\n",
       "      <td>906.292619</td>\n",
       "      <td>6349.529746</td>\n",
       "      <td>9564.325852</td>\n",
       "      <td>109156.089625</td>\n",
       "      <td>90689.236672</td>\n",
       "      <td>2100.116468</td>\n",
       "      <td>3084.010391</td>\n",
       "      <td>996.065605</td>\n",
       "      <td>6605.923250</td>\n",
       "      <td>6325.404830</td>\n",
       "      <td>3024.735501</td>\n",
       "      <td>109156.089625</td>\n",
       "    </tr>\n",
       "    <tr>\n",
       "      <th>min</th>\n",
       "      <td>25901.000000</td>\n",
       "      <td>2507.000000</td>\n",
       "      <td>758.000000</td>\n",
       "      <td>160.000000</td>\n",
       "      <td>655.000000</td>\n",
       "      <td>897.000000</td>\n",
       "      <td>31715.000000</td>\n",
       "      <td>27767.000000</td>\n",
       "      <td>995.000000</td>\n",
       "      <td>829.000000</td>\n",
       "      <td>177.000000</td>\n",
       "      <td>643.000000</td>\n",
       "      <td>362.000000</td>\n",
       "      <td>435.000000</td>\n",
       "      <td>31715.000000</td>\n",
       "    </tr>\n",
       "    <tr>\n",
       "      <th>25%</th>\n",
       "      <td>65097.500000</td>\n",
       "      <td>5071.000000</td>\n",
       "      <td>1976.000000</td>\n",
       "      <td>445.000000</td>\n",
       "      <td>1607.500000</td>\n",
       "      <td>2711.000000</td>\n",
       "      <td>76631.000000</td>\n",
       "      <td>67690.000000</td>\n",
       "      <td>1821.500000</td>\n",
       "      <td>2151.500000</td>\n",
       "      <td>470.000000</td>\n",
       "      <td>1648.500000</td>\n",
       "      <td>1233.500000</td>\n",
       "      <td>1009.000000</td>\n",
       "      <td>76631.000000</td>\n",
       "    </tr>\n",
       "    <tr>\n",
       "      <th>50%</th>\n",
       "      <td>103235.000000</td>\n",
       "      <td>8352.000000</td>\n",
       "      <td>2684.000000</td>\n",
       "      <td>763.000000</td>\n",
       "      <td>2815.000000</td>\n",
       "      <td>4946.000000</td>\n",
       "      <td>127762.000000</td>\n",
       "      <td>113042.000000</td>\n",
       "      <td>3127.000000</td>\n",
       "      <td>2844.000000</td>\n",
       "      <td>841.000000</td>\n",
       "      <td>2705.000000</td>\n",
       "      <td>2316.000000</td>\n",
       "      <td>1678.000000</td>\n",
       "      <td>127762.000000</td>\n",
       "    </tr>\n",
       "    <tr>\n",
       "      <th>75%</th>\n",
       "      <td>157679.000000</td>\n",
       "      <td>10789.000000</td>\n",
       "      <td>3904.000000</td>\n",
       "      <td>1424.000000</td>\n",
       "      <td>4408.000000</td>\n",
       "      <td>7669.500000</td>\n",
       "      <td>184946.000000</td>\n",
       "      <td>165828.000000</td>\n",
       "      <td>4343.000000</td>\n",
       "      <td>4152.500000</td>\n",
       "      <td>1563.000000</td>\n",
       "      <td>4437.500000</td>\n",
       "      <td>4341.500000</td>\n",
       "      <td>2074.500000</td>\n",
       "      <td>184946.000000</td>\n",
       "    </tr>\n",
       "    <tr>\n",
       "      <th>max</th>\n",
       "      <td>419158.000000</td>\n",
       "      <td>25481.000000</td>\n",
       "      <td>12378.000000</td>\n",
       "      <td>3474.000000</td>\n",
       "      <td>34072.000000</td>\n",
       "      <td>49172.000000</td>\n",
       "      <td>537190.000000</td>\n",
       "      <td>428146.000000</td>\n",
       "      <td>10774.000000</td>\n",
       "      <td>13060.000000</td>\n",
       "      <td>3815.000000</td>\n",
       "      <td>35705.000000</td>\n",
       "      <td>35300.000000</td>\n",
       "      <td>17224.000000</td>\n",
       "      <td>537190.000000</td>\n",
       "    </tr>\n",
       "  </tbody>\n",
       "</table>\n",
       "</div>"
      ],
      "text/plain": [
       "       Ireland_Birthplace  UK_Birthplace  Poland_Birthplace  \\\n",
       "count           31.000000      31.000000          31.000000   \n",
       "mean        125145.645161    8942.129032        3714.870968   \n",
       "std          87702.414023    5691.959597        2911.176208   \n",
       "min          25901.000000    2507.000000         758.000000   \n",
       "25%          65097.500000    5071.000000        1976.000000   \n",
       "50%         103235.000000    8352.000000        2684.000000   \n",
       "75%         157679.000000   10789.000000        3904.000000   \n",
       "max         419158.000000   25481.000000       12378.000000   \n",
       "\n",
       "       Lithuania_Birthplace  Other_EU_Birthplace  Rest_World_Birthplace  \\\n",
       "count             31.000000            31.000000              31.000000   \n",
       "mean            1075.612903          4686.516129            7723.000000   \n",
       "std              906.292619          6349.529746            9564.325852   \n",
       "min              160.000000           655.000000             897.000000   \n",
       "25%              445.000000          1607.500000            2711.000000   \n",
       "50%              763.000000          2815.000000            4946.000000   \n",
       "75%             1424.000000          4408.000000            7669.500000   \n",
       "max             3474.000000         34072.000000           49172.000000   \n",
       "\n",
       "       Total_Birthplace  Ireland_Nationality  UK_Nationality  \\\n",
       "count         31.000000            31.000000       31.000000   \n",
       "mean      151287.774194        131693.967742     3326.225806   \n",
       "std       109156.089625         90689.236672     2100.116468   \n",
       "min        31715.000000         27767.000000      995.000000   \n",
       "25%        76631.000000         67690.000000     1821.500000   \n",
       "50%       127762.000000        113042.000000     3127.000000   \n",
       "75%       184946.000000        165828.000000     4343.000000   \n",
       "max       537190.000000        428146.000000    10774.000000   \n",
       "\n",
       "       Poland_Nationality  Lithuania_Nationality  Other_EU_Nationality  \\\n",
       "count           31.000000              31.000000             31.000000   \n",
       "mean          3952.096774            1179.096774           4733.483871   \n",
       "std           3084.010391             996.065605           6605.923250   \n",
       "min            829.000000             177.000000            643.000000   \n",
       "25%           2151.500000             470.000000           1648.500000   \n",
       "50%           2844.000000             841.000000           2705.000000   \n",
       "75%           4152.500000            1563.000000           4437.500000   \n",
       "max          13060.000000            3815.000000          35705.000000   \n",
       "\n",
       "       Rest_World_Nationality  Not_Stated_Nationality  Total_Nationality  \n",
       "count               31.000000               31.000000          31.000000  \n",
       "mean              4082.483871             2320.419355      151287.774194  \n",
       "std               6325.404830             3024.735501      109156.089625  \n",
       "min                362.000000              435.000000       31715.000000  \n",
       "25%               1233.500000             1009.000000       76631.000000  \n",
       "50%               2316.000000             1678.000000      127762.000000  \n",
       "75%               4341.500000             2074.500000      184946.000000  \n",
       "max              35300.000000            17224.000000      537190.000000  "
      ]
     },
     "execution_count": 28,
     "metadata": {},
     "output_type": "execute_result"
    }
   ],
   "source": [
    "# printing the summary statistics of the tables (such as minimum, maximum, mean, median, quantiles, etc) \n",
    "\n",
    "Birthplace_and_Nationality.describe()"
   ]
  },
  {
   "cell_type": "code",
   "execution_count": 29,
   "id": "5c1e8c67",
   "metadata": {},
   "outputs": [
    {
     "data": {
      "text/plain": [
       "<AxesSubplot:>"
      ]
     },
     "execution_count": 29,
     "metadata": {},
     "output_type": "execute_result"
    },
    {
     "data": {
      "image/png": "[encoded data removed]",
      "text/plain": [
       "<Figure size 432x288 with 1 Axes>"
      ]
     },
     "metadata": {
      "needs_background": "light"
     },
     "output_type": "display_data"
    }
   ],
   "source": [
    "Birthplace_and_Nationality.boxplot(column=['Ireland_Birthplace', 'Ireland_Nationality'])"
   ]
  },
  {
   "cell_type": "code",
   "execution_count": 30,
   "id": "efa29888",
   "metadata": {},
   "outputs": [
    {
     "data": {
      "text/plain": [
       "<AxesSubplot:>"
      ]
     },
     "execution_count": 30,
     "metadata": {},
     "output_type": "execute_result"
    },
    {
     "data": {
      "image/png": "[encoded data removed]",
      "text/plain": [
       "<Figure size 432x288 with 1 Axes>"
      ]
     },
     "metadata": {
      "needs_background": "light"
     },
     "output_type": "display_data"
    }
   ],
   "source": [
    "Birthplace_and_Nationality.boxplot(column=['UK_Birthplace', 'Poland_Birthplace', 'UK_Nationality', 'Poland_Nationality'], rot=45)"
   ]
  },
  {
   "cell_type": "code",
   "execution_count": 31,
   "id": "a81a9cb9",
   "metadata": {},
   "outputs": [
    {
     "data": {
      "text/plain": [
       "<AxesSubplot:>"
      ]
     },
     "execution_count": 31,
     "metadata": {},
     "output_type": "execute_result"
    },
    {
     "data": {
      "image/png": "[encoded data removed]",
      "text/plain": [
       "<Figure size 432x288 with 1 Axes>"
      ]
     },
     "metadata": {
      "needs_background": "light"
     },
     "output_type": "display_data"
    }
   ],
   "source": [
    "Birthplace_and_Nationality.boxplot(column=['Other_EU_Birthplace', 'Other_EU_Nationality'])"
   ]
  },
  {
   "cell_type": "code",
   "execution_count": 32,
   "id": "542d0247",
   "metadata": {
    "scrolled": true
   },
   "outputs": [
    {
     "data": {
      "text/plain": [
       "County\n",
       "Offaly                       0.876900\n",
       "Kilkenny                     0.872000\n",
       "Wexford                      0.870983\n",
       "Tipperary                    0.869625\n",
       "Limerick City and County     0.858836\n",
       "Laois                        0.858760\n",
       "Carlow                       0.856435\n",
       "Galway County                0.854448\n",
       "Cork County                  0.853754\n",
       "Waterford City and County    0.852609\n",
       "Wicklow                      0.850526\n",
       "Meath                        0.847574\n",
       "Clare                        0.845097\n",
       "Sligo                        0.841635\n",
       "Roscommon                    0.840547\n",
       "Kildare                      0.839096\n",
       "Westmeath                    0.836991\n",
       "Kerry                        0.835166\n",
       "Mayo                         0.830350\n",
       "Cavan                        0.825451\n",
       "South Dublin                 0.825035\n",
       "Leitrim                      0.816680\n",
       "Cork City                    0.814061\n",
       "D�n Laoghaire-Rathdown       0.810982\n",
       "Louth                        0.808026\n",
       "Longford                     0.805116\n",
       "Monaghan                     0.789125\n",
       "Donegal                      0.789075\n",
       "Dublin City                  0.780279\n",
       "Fingal                       0.768047\n",
       "Galway City                  0.742241\n",
       "dtype: float64"
      ]
     },
     "execution_count": 32,
     "metadata": {},
     "output_type": "execute_result"
    }
   ],
   "source": [
    "(Birthplace_and_Nationality['Ireland_Birthplace']/Birthplace_and_Nationality['Total_Birthplace']).sort_values(ascending=False)"
   ]
  },
  {
   "cell_type": "code",
   "execution_count": 33,
   "id": "b66fd36e",
   "metadata": {
    "scrolled": true
   },
   "outputs": [
    {
     "data": {
      "text/plain": [
       "County\n",
       "Dublin City                  0.091536\n",
       "Galway City                  0.087950\n",
       "Fingal                       0.086047\n",
       "D�n Laoghaire-Rathdown       0.078822\n",
       "South Dublin                 0.073562\n",
       "Cork City                    0.063462\n",
       "Westmeath                    0.050494\n",
       "Kildare                      0.049629\n",
       "Louth                        0.049005\n",
       "Limerick City and County     0.044380\n",
       "Waterford City and County    0.043143\n",
       "Longford                     0.042848\n",
       "Clare                        0.042787\n",
       "Wicklow                      0.039983\n",
       "Meath                        0.038941\n",
       "Laois                        0.038675\n",
       "Sligo                        0.036474\n",
       "Cavan                        0.035927\n",
       "Kerry                        0.035208\n",
       "Galway County                0.034568\n",
       "Roscommon                    0.034531\n",
       "Cork County                  0.033329\n",
       "Carlow                       0.030544\n",
       "Mayo                         0.028685\n",
       "Leitrim                      0.028283\n",
       "Kilkenny                     0.027679\n",
       "Monaghan                     0.024766\n",
       "Tipperary                    0.024718\n",
       "Offaly                       0.024442\n",
       "Donegal                      0.024384\n",
       "Wexford                      0.019287\n",
       "dtype: float64"
      ]
     },
     "execution_count": 33,
     "metadata": {},
     "output_type": "execute_result"
    }
   ],
   "source": [
    "(Birthplace_and_Nationality['Rest_World_Birthplace']/Birthplace_and_Nationality['Total_Birthplace']).sort_values(ascending=False)"
   ]
  },
  {
   "cell_type": "code",
   "execution_count": 34,
   "id": "82c9612c",
   "metadata": {},
   "outputs": [
    {
     "data": {
      "text/html": [
       "<div>\n",
       "<style scoped>\n",
       "    .dataframe tbody tr th:only-of-type {\n",
       "        vertical-align: middle;\n",
       "    }\n",
       "\n",
       "    .dataframe tbody tr th {\n",
       "        vertical-align: top;\n",
       "    }\n",
       "\n",
       "    .dataframe thead th {\n",
       "        text-align: right;\n",
       "    }\n",
       "</style>\n",
       "<table border=\"1\" class=\"dataframe\">\n",
       "  <thead>\n",
       "    <tr style=\"text-align: right;\">\n",
       "      <th></th>\n",
       "      <th>Ireland_Birthplace</th>\n",
       "      <th>UK_Birthplace</th>\n",
       "      <th>Poland_Birthplace</th>\n",
       "      <th>Lithuania_Birthplace</th>\n",
       "      <th>Other_EU_Birthplace</th>\n",
       "      <th>Rest_World_Birthplace</th>\n",
       "      <th>Total_Birthplace</th>\n",
       "      <th>Ireland_Nationality</th>\n",
       "      <th>UK_Nationality</th>\n",
       "      <th>Poland_Nationality</th>\n",
       "      <th>Lithuania_Nationality</th>\n",
       "      <th>Other_EU_Nationality</th>\n",
       "      <th>Rest_World_Nationality</th>\n",
       "      <th>Not_Stated_Nationality</th>\n",
       "      <th>Total_Nationality</th>\n",
       "    </tr>\n",
       "    <tr>\n",
       "      <th>County</th>\n",
       "      <th></th>\n",
       "      <th></th>\n",
       "      <th></th>\n",
       "      <th></th>\n",
       "      <th></th>\n",
       "      <th></th>\n",
       "      <th></th>\n",
       "      <th></th>\n",
       "      <th></th>\n",
       "      <th></th>\n",
       "      <th></th>\n",
       "      <th></th>\n",
       "      <th></th>\n",
       "      <th></th>\n",
       "      <th></th>\n",
       "    </tr>\n",
       "  </thead>\n",
       "  <tbody>\n",
       "    <tr>\n",
       "      <th>Dublin City</th>\n",
       "      <td>419158</td>\n",
       "      <td>22307</td>\n",
       "      <td>10116</td>\n",
       "      <td>2365</td>\n",
       "      <td>34072</td>\n",
       "      <td>49172</td>\n",
       "      <td>537190</td>\n",
       "      <td>428146</td>\n",
       "      <td>7515</td>\n",
       "      <td>10712</td>\n",
       "      <td>2588</td>\n",
       "      <td>35705</td>\n",
       "      <td>35300</td>\n",
       "      <td>17224</td>\n",
       "      <td>537190</td>\n",
       "    </tr>\n",
       "    <tr>\n",
       "      <th>Cork County</th>\n",
       "      <td>352452</td>\n",
       "      <td>22176</td>\n",
       "      <td>12378</td>\n",
       "      <td>2094</td>\n",
       "      <td>9967</td>\n",
       "      <td>13759</td>\n",
       "      <td>412826</td>\n",
       "      <td>366614</td>\n",
       "      <td>10774</td>\n",
       "      <td>13060</td>\n",
       "      <td>2254</td>\n",
       "      <td>9544</td>\n",
       "      <td>6218</td>\n",
       "      <td>4362</td>\n",
       "      <td>412826</td>\n",
       "    </tr>\n",
       "  </tbody>\n",
       "</table>\n",
       "</div>"
      ],
      "text/plain": [
       "             Ireland_Birthplace  UK_Birthplace  Poland_Birthplace  \\\n",
       "County                                                              \n",
       "Dublin City              419158          22307              10116   \n",
       "Cork County              352452          22176              12378   \n",
       "\n",
       "             Lithuania_Birthplace  Other_EU_Birthplace  Rest_World_Birthplace  \\\n",
       "County                                                                          \n",
       "Dublin City                  2365                34072                  49172   \n",
       "Cork County                  2094                 9967                  13759   \n",
       "\n",
       "             Total_Birthplace  Ireland_Nationality  UK_Nationality  \\\n",
       "County                                                               \n",
       "Dublin City            537190               428146            7515   \n",
       "Cork County            412826               366614           10774   \n",
       "\n",
       "             Poland_Nationality  Lithuania_Nationality  Other_EU_Nationality  \\\n",
       "County                                                                         \n",
       "Dublin City               10712                   2588                 35705   \n",
       "Cork County               13060                   2254                  9544   \n",
       "\n",
       "             Rest_World_Nationality  Not_Stated_Nationality  Total_Nationality  \n",
       "County                                                                          \n",
       "Dublin City                   35300                   17224             537190  \n",
       "Cork County                    6218                    4362             412826  "
      ]
     },
     "execution_count": 34,
     "metadata": {},
     "output_type": "execute_result"
    }
   ],
   "source": [
    "Birthplace_and_Nationality[Birthplace_and_Nationality['Ireland_Birthplace']>250000].sort_values(ascending=False, by='Ireland_Birthplace')"
   ]
  },
  {
   "cell_type": "code",
   "execution_count": 35,
   "id": "dfcf57b9",
   "metadata": {},
   "outputs": [
    {
     "data": {
      "text/html": [
       "<div>\n",
       "<style scoped>\n",
       "    .dataframe tbody tr th:only-of-type {\n",
       "        vertical-align: middle;\n",
       "    }\n",
       "\n",
       "    .dataframe tbody tr th {\n",
       "        vertical-align: top;\n",
       "    }\n",
       "\n",
       "    .dataframe thead th {\n",
       "        text-align: right;\n",
       "    }\n",
       "</style>\n",
       "<table border=\"1\" class=\"dataframe\">\n",
       "  <thead>\n",
       "    <tr style=\"text-align: right;\">\n",
       "      <th></th>\n",
       "      <th>Ireland_Birthplace</th>\n",
       "      <th>UK_Birthplace</th>\n",
       "      <th>Poland_Birthplace</th>\n",
       "      <th>Lithuania_Birthplace</th>\n",
       "      <th>Other_EU_Birthplace</th>\n",
       "      <th>Rest_World_Birthplace</th>\n",
       "      <th>Total_Birthplace</th>\n",
       "      <th>Ireland_Nationality</th>\n",
       "      <th>UK_Nationality</th>\n",
       "      <th>Poland_Nationality</th>\n",
       "      <th>Lithuania_Nationality</th>\n",
       "      <th>Other_EU_Nationality</th>\n",
       "      <th>Rest_World_Nationality</th>\n",
       "      <th>Not_Stated_Nationality</th>\n",
       "      <th>Total_Nationality</th>\n",
       "    </tr>\n",
       "    <tr>\n",
       "      <th>County</th>\n",
       "      <th></th>\n",
       "      <th></th>\n",
       "      <th></th>\n",
       "      <th></th>\n",
       "      <th></th>\n",
       "      <th></th>\n",
       "      <th></th>\n",
       "      <th></th>\n",
       "      <th></th>\n",
       "      <th></th>\n",
       "      <th></th>\n",
       "      <th></th>\n",
       "      <th></th>\n",
       "      <th></th>\n",
       "      <th></th>\n",
       "    </tr>\n",
       "  </thead>\n",
       "  <tbody>\n",
       "    <tr>\n",
       "      <th>Donegal</th>\n",
       "      <td>123229</td>\n",
       "      <td>25481</td>\n",
       "      <td>1858</td>\n",
       "      <td>308</td>\n",
       "      <td>1485</td>\n",
       "      <td>3808</td>\n",
       "      <td>156169</td>\n",
       "      <td>142681</td>\n",
       "      <td>5853</td>\n",
       "      <td>2012</td>\n",
       "      <td>345</td>\n",
       "      <td>1435</td>\n",
       "      <td>1832</td>\n",
       "      <td>2011</td>\n",
       "      <td>156169</td>\n",
       "    </tr>\n",
       "    <tr>\n",
       "      <th>Dublin City</th>\n",
       "      <td>419158</td>\n",
       "      <td>22307</td>\n",
       "      <td>10116</td>\n",
       "      <td>2365</td>\n",
       "      <td>34072</td>\n",
       "      <td>49172</td>\n",
       "      <td>537190</td>\n",
       "      <td>428146</td>\n",
       "      <td>7515</td>\n",
       "      <td>10712</td>\n",
       "      <td>2588</td>\n",
       "      <td>35705</td>\n",
       "      <td>35300</td>\n",
       "      <td>17224</td>\n",
       "      <td>537190</td>\n",
       "    </tr>\n",
       "    <tr>\n",
       "      <th>Cork County</th>\n",
       "      <td>352452</td>\n",
       "      <td>22176</td>\n",
       "      <td>12378</td>\n",
       "      <td>2094</td>\n",
       "      <td>9967</td>\n",
       "      <td>13759</td>\n",
       "      <td>412826</td>\n",
       "      <td>366614</td>\n",
       "      <td>10774</td>\n",
       "      <td>13060</td>\n",
       "      <td>2254</td>\n",
       "      <td>9544</td>\n",
       "      <td>6218</td>\n",
       "      <td>4362</td>\n",
       "      <td>412826</td>\n",
       "    </tr>\n",
       "  </tbody>\n",
       "</table>\n",
       "</div>"
      ],
      "text/plain": [
       "             Ireland_Birthplace  UK_Birthplace  Poland_Birthplace  \\\n",
       "County                                                              \n",
       "Donegal                  123229          25481               1858   \n",
       "Dublin City              419158          22307              10116   \n",
       "Cork County              352452          22176              12378   \n",
       "\n",
       "             Lithuania_Birthplace  Other_EU_Birthplace  Rest_World_Birthplace  \\\n",
       "County                                                                          \n",
       "Donegal                       308                 1485                   3808   \n",
       "Dublin City                  2365                34072                  49172   \n",
       "Cork County                  2094                 9967                  13759   \n",
       "\n",
       "             Total_Birthplace  Ireland_Nationality  UK_Nationality  \\\n",
       "County                                                               \n",
       "Donegal                156169               142681            5853   \n",
       "Dublin City            537190               428146            7515   \n",
       "Cork County            412826               366614           10774   \n",
       "\n",
       "             Poland_Nationality  Lithuania_Nationality  Other_EU_Nationality  \\\n",
       "County                                                                         \n",
       "Donegal                    2012                    345                  1435   \n",
       "Dublin City               10712                   2588                 35705   \n",
       "Cork County               13060                   2254                  9544   \n",
       "\n",
       "             Rest_World_Nationality  Not_Stated_Nationality  Total_Nationality  \n",
       "County                                                                          \n",
       "Donegal                        1832                    2011             156169  \n",
       "Dublin City                   35300                   17224             537190  \n",
       "Cork County                    6218                    4362             412826  "
      ]
     },
     "execution_count": 35,
     "metadata": {},
     "output_type": "execute_result"
    }
   ],
   "source": [
    "Birthplace_and_Nationality[Birthplace_and_Nationality['UK_Birthplace']>20000].sort_values(ascending=False, by='UK_Birthplace')"
   ]
  },
  {
   "cell_type": "markdown",
   "id": "e31eae5f",
   "metadata": {},
   "source": [
    "* From above outputs of describe( ) and boxplots, we can see that minimum number of people(in any county) who are born in Ireland is 25901 and maximum is 419158 (which is for Dublin City). Second highest area with largest number of Irish born population is Cork County.\n",
    "\n",
    "* Also if we see then Dublin City ranks second in number of people who are born in UK followed by Cork County.\n",
    "\n",
    "* In terms of Other_EU population (i.e individuals who are from outside EU), Dublin City again has highest number of such people.\n",
    "\n",
    "* Hence from all this, we can say that Dublin City has mixture of both Irish as well as Outside country population.\n",
    "\n",
    "* Now if we compare the proportion of people who are born in Ireland, we see that County Offaly has highest number of Irish people (approx 88%) and Galway City has lowest (approx 74%). Dublin City also had very low proportion of Irish individuals (approx 78%).\n",
    "\n",
    "* If we compare the proportion of people in different counties who have came from Rest of the World, Dublin City has highest (approx 10%) (The same result/conclusion was made above while analysing Irish_speaking_population table). Galway City ranks two with approx 0.9%."
   ]
  },
  {
   "cell_type": "markdown",
   "id": "f96b7225",
   "metadata": {},
   "source": [
    "* From the output of boxplots derived above, we can infer that Ireland_Birthplace is slightly deviated from normal distribution, it is slightly Right Skewed data. But Ireland_Nationality is almost normally distributed.\n",
    "\n",
    "* In general there are not much outliers for any column(maximum 5). So most of the data in the table follows the general trend.\n",
    "\n",
    "* There are considerable amount of people for whom Nationality is not stated/recorded. Hence efforts and care must be taken to keep the record of nationality of every individual.\n"
   ]
  },
  {
   "cell_type": "markdown",
   "id": "b0d74947",
   "metadata": {},
   "source": [
    " "
   ]
  },
  {
   "cell_type": "markdown",
   "id": "9da9fe59",
   "metadata": {},
   "source": [
    "#### 3.3 Analysing Education_background table  "
   ]
  },
  {
   "cell_type": "code",
   "execution_count": 36,
   "id": "97de27b6",
   "metadata": {
    "scrolled": true
   },
   "outputs": [
    {
     "data": {
      "text/plain": [
       "Electoral_Area\n",
       "Cork City North West       0.711874\n",
       "Waterford City South       0.665191\n",
       "Cork City North Central    0.630074\n",
       "Stranorlar                 0.628773\n",
       "Beaumont-Donaghmede        0.617156\n",
       "                             ...   \n",
       "Galway City West           0.318695\n",
       "Glencullen - Sandyford     0.300035\n",
       "Blackrock                  0.262314\n",
       "Rathgar - Rathmines        0.259578\n",
       "Stillorgan                 0.253634\n",
       "Length: 137, dtype: float64"
      ]
     },
     "execution_count": 36,
     "metadata": {},
     "output_type": "execute_result"
    }
   ],
   "source": [
    "(Education_background['Not_Stated_Total']/Education_background['Total']).sort_values(ascending=False)"
   ]
  },
  {
   "cell_type": "code",
   "execution_count": 37,
   "id": "2ee6018f",
   "metadata": {},
   "outputs": [
    {
     "data": {
      "text/plain": [
       "87"
      ]
     },
     "execution_count": 37,
     "metadata": {},
     "output_type": "execute_result"
    }
   ],
   "source": [
    "((Education_background['Not_Stated_Total']/Education_background['Total'])>0.5).sum()"
   ]
  },
  {
   "cell_type": "markdown",
   "id": "1ac1bf7b",
   "metadata": {},
   "source": [
    "From above output, we see that there is considerably high amount of people for whom the area of study is not stated/recorded.\n",
    "\n",
    "For example Cork City North West area has highest proportion of \"Not_Stated\" value (approx 71%). In total, 87 areas have \"Not_Stated\" proportion of population greater than 50%. This depicts lack of information in this particular aspect."
   ]
  },
  {
   "cell_type": "markdown",
   "id": "cd126019",
   "metadata": {},
   "source": [
    " "
   ]
  },
  {
   "cell_type": "code",
   "execution_count": 38,
   "id": "ffa86d36",
   "metadata": {},
   "outputs": [],
   "source": [
    "labels = ['Education_teacher_training', 'Arts', 'Humanities', 'Social_sciences_business_law', 'Science_mathematics_computing', 'Engineering_manufacturing_construction', 'Agriculture_veterinary', 'Health_welfare', 'Services', 'Other']\n",
    "males = Education_background.iloc[:, 0:10].loc['Dundrum']\n",
    "females = Education_background.iloc[:, 12:22].loc['Dundrum']"
   ]
  },
  {
   "cell_type": "code",
   "execution_count": 39,
   "id": "a8c2a9a9",
   "metadata": {},
   "outputs": [],
   "source": [
    "x = np.arange(1,len(labels)+1)"
   ]
  },
  {
   "cell_type": "code",
   "execution_count": 40,
   "id": "cd0a5aeb",
   "metadata": {},
   "outputs": [
    {
     "data": {
      "image/png": "[encoded data removed]",
      "text/plain": [
       "<Figure size 432x288 with 1 Axes>"
      ]
     },
     "metadata": {
      "needs_background": "light"
     },
     "output_type": "display_data"
    }
   ],
   "source": [
    "width = 0.175\n",
    "\n",
    "# plot data in grouped manner of bar type\n",
    "plt.bar(x-width, males, width, color='cyan')\n",
    "plt.bar(x+width, females, width, color='green')\n",
    "plt.xticks(x, labels, size=10, rotation=90)\n",
    "plt.xlabel(\"Education Category\", size=13)\n",
    "plt.ylabel(\"Number of People\", size=13)\n",
    "plt.legend([\"Males\", \"Females\"])\n",
    "plt.title(\"Grouped Bar Plot Depicting Field of Study by Sex for Dundrum Area\", size=13)\n",
    "plt.show()"
   ]
  },
  {
   "cell_type": "markdown",
   "id": "da02e842",
   "metadata": {},
   "source": [
    " "
   ]
  },
  {
   "cell_type": "markdown",
   "id": "da02e842",
   "metadata": {},
   "source": [
    " "
   ]
  },
  {
   "cell_type": "markdown",
   "id": "97bb4f51",
   "metadata": {},
   "source": [
    "From above grouped bar chart, we can clearly see that in Dundrum electoral area, highest number of individuals are from \"Social Sciences, Business and Law\" field. For females, the second highest sector is \"Health and Welfare\" closely followed by \"Education, Teacher and Training\" sector. Whereas for males, the second most popular sector is \"Engineering, manufacturing and construction\" sector closely followed by \"Science, mathematics and computing\". \n",
    "\n",
    "In general we can see that in most of the fields, female population is more compared to male."
   ]
  },
  {
   "cell_type": "markdown",
   "id": "e5f02064",
   "metadata": {},
   "source": [
    " "
   ]
  },
  {
   "cell_type": "markdown",
   "id": "da02e842",
   "metadata": {},
   "source": [
    " "
   ]
  },
  {
   "cell_type": "markdown",
   "id": "da02e842",
   "metadata": {},
   "source": [
    " "
   ]
  },
  {
   "cell_type": "markdown",
   "id": "da02e842",
   "metadata": {},
   "source": [
    " "
   ]
  },
  {
   "cell_type": "markdown",
   "id": "bd2faf5c",
   "metadata": {},
   "source": [
    " "
   ]
  },
  {
   "cell_type": "markdown",
   "id": "d8d46c38",
   "metadata": {},
   "source": [
    "#### 3.4 Analysing Family_size table"
   ]
  },
  {
   "cell_type": "markdown",
   "id": "d99a85a3",
   "metadata": {},
   "source": [
    " "
   ]
  },
  {
   "cell_type": "code",
   "execution_count": 41,
   "id": "8f9cc7a3",
   "metadata": {},
   "outputs": [
    {
     "data": {
      "text/plain": [
       "<AxesSubplot:>"
      ]
     },
     "execution_count": 41,
     "metadata": {},
     "output_type": "execute_result"
    },
    {
     "data": {
      "image/png": "[encoded data removed]",
      "text/plain": [
       "<Figure size 720x360 with 1 Axes>"
      ]
     },
     "metadata": {
      "needs_background": "light"
     },
     "output_type": "display_data"
    }
   ],
   "source": [
    "Family_size.boxplot(column=['2_persons','3_persons','4_persons','5_persons','6_or_more_persons'],figsize=(10,5))"
   ]
  },
  {
   "cell_type": "markdown",
   "id": "ea76dc3a",
   "metadata": {},
   "source": [
    "From above boxplot we can infer that in most of the electoral areas, large number of people live in pairs (family size = 2). Proportion of population living with family size 3 and 4 are almost same. There are very few people who live in large  families (comprising of 6 persons or more)."
   ]
  },
  {
   "cell_type": "code",
   "execution_count": 42,
   "id": "091f64e1",
   "metadata": {},
   "outputs": [],
   "source": [
    "x=[3,7,10,12,14]\n",
    "y=[4,5,8,11,13]\n",
    "s=Family_size.loc['Dundrum'].iloc[0:5]"
   ]
  },
  {
   "cell_type": "code",
   "execution_count": 43,
   "id": "bac81f2a",
   "metadata": {},
   "outputs": [
    {
     "data": {
      "text/plain": [
       "array([4518, 2080, 1976,  935,  266])"
      ]
     },
     "execution_count": 43,
     "metadata": {},
     "output_type": "execute_result"
    }
   ],
   "source": [
    "s.values"
   ]
  },
  {
   "cell_type": "code",
   "execution_count": 44,
   "id": "89b9c4b6",
   "metadata": {
    "scrolled": true
   },
   "outputs": [
    {
     "data": {
      "text/plain": [
       "(0.0, 15.0)"
      ]
     },
     "execution_count": 44,
     "metadata": {},
     "output_type": "execute_result"
    },
    {
     "data": {
      "image/png": "[encoded data removed]",
      "text/plain": [
       "<Figure size 432x288 with 1 Axes>"
      ]
     },
     "metadata": {
      "needs_background": "light"
     },
     "output_type": "display_data"
    }
   ],
   "source": [
    "plt.scatter(x,y,s=s.values)\n",
    "plt.xlim(0,18)\n",
    "plt.ylim(0,15)"
   ]
  },
  {
   "cell_type": "markdown",
   "id": "0b7d992d",
   "metadata": {},
   "source": [
    "From above plot, we can see the size of the circle is proportional to number of families of each family size type. Hence for family size = 2, we have largest cricle indicating that there are highest number of families having family size = 2. The circles for family size 3 and 4 are almost same. The smallest is for 6/more persons in family."
   ]
  },
  {
   "cell_type": "markdown",
   "id": "dd3456f9",
   "metadata": {},
   "source": [
    " "
   ]
  },
  {
   "cell_type": "markdown",
   "id": "9d03dd04",
   "metadata": {},
   "source": [
    "## 4.  STATISTICAL ANALYSIS"
   ]
  },
  {
   "cell_type": "markdown",
   "id": "5dbd52ba",
   "metadata": {},
   "source": [
    "### 4.1 Identifying if there is any Linear Relationship between ability to speak Irish Langugage and Nationality / Birthplace "
   ]
  },
  {
   "cell_type": "code",
   "execution_count": 45,
   "id": "a4a017bb",
   "metadata": {},
   "outputs": [],
   "source": [
    "# concatenate the two tables created above i.e Irish_speaking_population and Birthplace_and_Nationality\n",
    "# concatenation is done using inner join (on county index)\n",
    "\n",
    "Irish_and_Nationality_merged = pd.concat([Irish_speaking_population , Birthplace_and_Nationality], axis=1, join=\"inner\")"
   ]
  },
  {
   "cell_type": "markdown",
   "id": "da02e842",
   "metadata": {},
   "source": [
    " "
   ]
  },
  {
   "cell_type": "code",
   "execution_count": 46,
   "id": "6c747446",
   "metadata": {},
   "outputs": [
    {
     "data": {
      "text/html": [
       "<div>\n",
       "<style scoped>\n",
       "    .dataframe tbody tr th:only-of-type {\n",
       "        vertical-align: middle;\n",
       "    }\n",
       "\n",
       "    .dataframe tbody tr th {\n",
       "        vertical-align: top;\n",
       "    }\n",
       "\n",
       "    .dataframe thead th {\n",
       "        text-align: right;\n",
       "    }\n",
       "</style>\n",
       "<table border=\"1\" class=\"dataframe\">\n",
       "  <thead>\n",
       "    <tr style=\"text-align: right;\">\n",
       "      <th></th>\n",
       "      <th>Yes</th>\n",
       "      <th>No</th>\n",
       "      <th>Not_Stated</th>\n",
       "      <th>Total</th>\n",
       "      <th>Ireland_Birthplace</th>\n",
       "      <th>UK_Birthplace</th>\n",
       "      <th>Poland_Birthplace</th>\n",
       "      <th>Lithuania_Birthplace</th>\n",
       "      <th>Other_EU_Birthplace</th>\n",
       "      <th>Rest_World_Birthplace</th>\n",
       "      <th>Total_Birthplace</th>\n",
       "      <th>Ireland_Nationality</th>\n",
       "      <th>UK_Nationality</th>\n",
       "      <th>Poland_Nationality</th>\n",
       "      <th>Lithuania_Nationality</th>\n",
       "      <th>Other_EU_Nationality</th>\n",
       "      <th>Rest_World_Nationality</th>\n",
       "      <th>Not_Stated_Nationality</th>\n",
       "      <th>Total_Nationality</th>\n",
       "    </tr>\n",
       "    <tr>\n",
       "      <th>County</th>\n",
       "      <th></th>\n",
       "      <th></th>\n",
       "      <th></th>\n",
       "      <th></th>\n",
       "      <th></th>\n",
       "      <th></th>\n",
       "      <th></th>\n",
       "      <th></th>\n",
       "      <th></th>\n",
       "      <th></th>\n",
       "      <th></th>\n",
       "      <th></th>\n",
       "      <th></th>\n",
       "      <th></th>\n",
       "      <th></th>\n",
       "      <th></th>\n",
       "      <th></th>\n",
       "      <th></th>\n",
       "      <th></th>\n",
       "    </tr>\n",
       "  </thead>\n",
       "  <tbody>\n",
       "    <tr>\n",
       "      <th>Cork City</th>\n",
       "      <td>44822</td>\n",
       "      <td>72457</td>\n",
       "      <td>4555</td>\n",
       "      <td>121834</td>\n",
       "      <td>100145</td>\n",
       "      <td>5092</td>\n",
       "      <td>3066</td>\n",
       "      <td>448</td>\n",
       "      <td>6461</td>\n",
       "      <td>7807</td>\n",
       "      <td>123019</td>\n",
       "      <td>103962</td>\n",
       "      <td>1856</td>\n",
       "      <td>3232</td>\n",
       "      <td>466</td>\n",
       "      <td>6580</td>\n",
       "      <td>5049</td>\n",
       "      <td>1874</td>\n",
       "      <td>123019</td>\n",
       "    </tr>\n",
       "    <tr>\n",
       "      <th>Clare</th>\n",
       "      <td>52482</td>\n",
       "      <td>58889</td>\n",
       "      <td>3001</td>\n",
       "      <td>114372</td>\n",
       "      <td>98420</td>\n",
       "      <td>7616</td>\n",
       "      <td>2684</td>\n",
       "      <td>333</td>\n",
       "      <td>2424</td>\n",
       "      <td>4983</td>\n",
       "      <td>116460</td>\n",
       "      <td>103829</td>\n",
       "      <td>3127</td>\n",
       "      <td>2844</td>\n",
       "      <td>362</td>\n",
       "      <td>2435</td>\n",
       "      <td>2302</td>\n",
       "      <td>1561</td>\n",
       "      <td>116460</td>\n",
       "    </tr>\n",
       "    <tr>\n",
       "      <th>Cork County</th>\n",
       "      <td>179317</td>\n",
       "      <td>211657</td>\n",
       "      <td>8128</td>\n",
       "      <td>399102</td>\n",
       "      <td>352452</td>\n",
       "      <td>22176</td>\n",
       "      <td>12378</td>\n",
       "      <td>2094</td>\n",
       "      <td>9967</td>\n",
       "      <td>13759</td>\n",
       "      <td>412826</td>\n",
       "      <td>366614</td>\n",
       "      <td>10774</td>\n",
       "      <td>13060</td>\n",
       "      <td>2254</td>\n",
       "      <td>9544</td>\n",
       "      <td>6218</td>\n",
       "      <td>4362</td>\n",
       "      <td>412826</td>\n",
       "    </tr>\n",
       "    <tr>\n",
       "      <th>Cavan</th>\n",
       "      <td>25210</td>\n",
       "      <td>46003</td>\n",
       "      <td>1657</td>\n",
       "      <td>72870</td>\n",
       "      <td>62173</td>\n",
       "      <td>5414</td>\n",
       "      <td>2009</td>\n",
       "      <td>1301</td>\n",
       "      <td>1717</td>\n",
       "      <td>2706</td>\n",
       "      <td>75320</td>\n",
       "      <td>65609</td>\n",
       "      <td>2041</td>\n",
       "      <td>2189</td>\n",
       "      <td>1433</td>\n",
       "      <td>1755</td>\n",
       "      <td>1396</td>\n",
       "      <td>897</td>\n",
       "      <td>75320</td>\n",
       "    </tr>\n",
       "    <tr>\n",
       "      <th>Carlow</th>\n",
       "      <td>20243</td>\n",
       "      <td>32896</td>\n",
       "      <td>1458</td>\n",
       "      <td>54597</td>\n",
       "      <td>48368</td>\n",
       "      <td>2588</td>\n",
       "      <td>2121</td>\n",
       "      <td>231</td>\n",
       "      <td>1443</td>\n",
       "      <td>1725</td>\n",
       "      <td>56476</td>\n",
       "      <td>49654</td>\n",
       "      <td>1107</td>\n",
       "      <td>2277</td>\n",
       "      <td>239</td>\n",
       "      <td>1438</td>\n",
       "      <td>871</td>\n",
       "      <td>890</td>\n",
       "      <td>56476</td>\n",
       "    </tr>\n",
       "  </tbody>\n",
       "</table>\n",
       "</div>"
      ],
      "text/plain": [
       "                Yes      No  Not_Stated   Total  Ireland_Birthplace  \\\n",
       "County                                                                \n",
       "Cork City     44822   72457        4555  121834              100145   \n",
       "Clare         52482   58889        3001  114372               98420   \n",
       "Cork County  179317  211657        8128  399102              352452   \n",
       "Cavan         25210   46003        1657   72870               62173   \n",
       "Carlow        20243   32896        1458   54597               48368   \n",
       "\n",
       "             UK_Birthplace  Poland_Birthplace  Lithuania_Birthplace  \\\n",
       "County                                                                \n",
       "Cork City             5092               3066                   448   \n",
       "Clare                 7616               2684                   333   \n",
       "Cork County          22176              12378                  2094   \n",
       "Cavan                 5414               2009                  1301   \n",
       "Carlow                2588               2121                   231   \n",
       "\n",
       "             Other_EU_Birthplace  Rest_World_Birthplace  Total_Birthplace  \\\n",
       "County                                                                      \n",
       "Cork City                   6461                   7807            123019   \n",
       "Clare                       2424                   4983            116460   \n",
       "Cork County                 9967                  13759            412826   \n",
       "Cavan                       1717                   2706             75320   \n",
       "Carlow                      1443                   1725             56476   \n",
       "\n",
       "             Ireland_Nationality  UK_Nationality  Poland_Nationality  \\\n",
       "County                                                                 \n",
       "Cork City                 103962            1856                3232   \n",
       "Clare                     103829            3127                2844   \n",
       "Cork County               366614           10774               13060   \n",
       "Cavan                      65609            2041                2189   \n",
       "Carlow                     49654            1107                2277   \n",
       "\n",
       "             Lithuania_Nationality  Other_EU_Nationality  \\\n",
       "County                                                     \n",
       "Cork City                      466                  6580   \n",
       "Clare                          362                  2435   \n",
       "Cork County                   2254                  9544   \n",
       "Cavan                         1433                  1755   \n",
       "Carlow                         239                  1438   \n",
       "\n",
       "             Rest_World_Nationality  Not_Stated_Nationality  Total_Nationality  \n",
       "County                                                                          \n",
       "Cork City                      5049                    1874             123019  \n",
       "Clare                          2302                    1561             116460  \n",
       "Cork County                    6218                    4362             412826  \n",
       "Cavan                          1396                     897              75320  \n",
       "Carlow                          871                     890              56476  "
      ]
     },
     "execution_count": 46,
     "metadata": {},
     "output_type": "execute_result"
    }
   ],
   "source": [
    "# print top 5 rows of the merged data\n",
    "\n",
    "Irish_and_Nationality_merged.head()"
   ]
  },
  {
   "cell_type": "markdown",
   "id": "da02e842",
   "metadata": {},
   "source": [
    " "
   ]
  },
  {
   "cell_type": "code",
   "execution_count": 47,
   "id": "260e5e99",
   "metadata": {},
   "outputs": [
    {
     "data": {
      "text/plain": [
       "Yes                       1.000000\n",
       "Ireland_Nationality       0.977866\n",
       "Ireland_Birthplace        0.975870\n",
       "Total_Birthplace          0.964501\n",
       "Total_Nationality         0.964501\n",
       "Total                     0.960757\n",
       "No                        0.919764\n",
       "Poland_Birthplace         0.911319\n",
       "Poland_Nationality        0.906862\n",
       "UK_Nationality            0.887201\n",
       "UK_Birthplace             0.787767\n",
       "Rest_World_Birthplace     0.765312\n",
       "Other_EU_Birthplace       0.747162\n",
       "Other_EU_Nationality      0.732329\n",
       "Not_Stated_Nationality    0.726767\n",
       "Not_Stated                0.715718\n",
       "Rest_World_Nationality    0.690417\n",
       "Lithuania_Birthplace      0.545326\n",
       "Lithuania_Nationality     0.538262\n",
       "Name: Yes, dtype: float64"
      ]
     },
     "execution_count": 47,
     "metadata": {},
     "output_type": "execute_result"
    }
   ],
   "source": [
    "# find the correlation of all columns with \"Yes\" colummn (i.e with number of people who speak Irish).\n",
    "# then sort the values in decreasing order to identify the columns which are highly related to our column of interest.\n",
    "\n",
    "Irish_and_Nationality_merged.corr()['Yes'].abs().sort_values(ascending = False)"
   ]
  },
  {
   "cell_type": "markdown",
   "id": "da02e842",
   "metadata": {},
   "source": [
    " "
   ]
  },
  {
   "cell_type": "markdown",
   "id": "da02e842",
   "metadata": {},
   "source": [
    " "
   ]
  },
  {
   "cell_type": "markdown",
   "id": "da02e842",
   "metadata": {},
   "source": [
    " "
   ]
  },
  {
   "cell_type": "markdown",
   "id": "da02e842",
   "metadata": {},
   "source": [
    " "
   ]
  },
  {
   "cell_type": "markdown",
   "id": "369905ff",
   "metadata": {},
   "source": [
    " "
   ]
  },
  {
   "cell_type": "markdown",
   "id": "da02e842",
   "metadata": {},
   "source": [
    " "
   ]
  },
  {
   "cell_type": "markdown",
   "id": "e281a777",
   "metadata": {},
   "source": [
    "##### Building a Linear Model using OLS"
   ]
  },
  {
   "cell_type": "code",
   "execution_count": 48,
   "id": "6f21fe51",
   "metadata": {},
   "outputs": [],
   "source": [
    "# pick top few columns/predictors having high correlation with response variable (\"Yes\")\n",
    "data = Irish_and_Nationality_merged[['Ireland_Nationality' , 'Ireland_Birthplace' , 'Poland_Birthplace' , 'Poland_Nationality' , 'UK_Nationality' , 'UK_Birthplace' , 'Rest_World_Birthplace', 'Other_EU_Birthplace' , 'Other_EU_Nationality']]\n",
    "\n",
    "# necessary to prepend column of 1's to X in order to consider the intercept term\n",
    "data = sm.add_constant(data)\n",
    "\n",
    "# defining the response variable\n",
    "target = Irish_and_Nationality_merged['Yes']\n",
    "\n",
    "# performing the splitting of entire data into training and testing data in the ratio of 80:20\n",
    "# to prevent overfitting and to effectively evaluate the model performance.\n",
    "X_train, X_test, y_train, y_test = train_test_split(data, target, test_size=0.2, random_state=0) "
   ]
  },
  {
   "cell_type": "code",
   "execution_count": 49,
   "id": "6df92460",
   "metadata": {},
   "outputs": [],
   "source": [
    "# fit / train the model on training data\n",
    "\n",
    "mod = sm.OLS(y_train, X_train, axis=1).fit()"
   ]
  },
  {
   "cell_type": "markdown",
   "id": "369905ff",
   "metadata": {},
   "source": [
    " "
   ]
  },
  {
   "cell_type": "code",
   "execution_count": 50,
   "id": "55ed5fef",
   "metadata": {
    "scrolled": false
   },
   "outputs": [
    {
     "data": {
      "text/plain": [
       "const                    1913.798858\n",
       "Ireland_Nationality         0.723051\n",
       "Ireland_Birthplace         -0.399089\n",
       "Poland_Birthplace          34.712417\n",
       "Poland_Nationality        -31.083436\n",
       "UK_Nationality              3.140699\n",
       "UK_Birthplace              -0.666767\n",
       "Rest_World_Birthplace      -0.246801\n",
       "Other_EU_Birthplace         2.848607\n",
       "Other_EU_Nationality       -2.766078\n",
       "dtype: float64"
      ]
     },
     "execution_count": 50,
     "metadata": {},
     "output_type": "execute_result"
    }
   ],
   "source": [
    "# print all the estimated coefficient values (i.e intercept term and slope parameter for all variables)\n",
    "\n",
    "mod.params"
   ]
  },
  {
   "cell_type": "markdown",
   "id": "da5ea311",
   "metadata": {},
   "source": [
    "Hence our equation is of the form :-\n",
    "\n",
    "Irish_Yes = β0 + β1 * (Ireland_nationality) + β2 * (Ireland_Birthplace) + β3 * (Poland_Birthplace) + β4 * (Poland_Nationality) + β5 * (UK_Nationality) + β6 * (UK_Birthplace) + β7 * (Rest_World_Birthplace) + β8 * (Other_EU_Birthplace) + β9 * (Other_EU_Nationality)\n",
    "\n",
    "As per above estimated values for coefficients, we can say that if Ireland_nationality increases by 100 units(people) then number of Irish speaking individuals increases by approximately 72 people. Similarly, for increase in people born in Poland by 100 units, we expect increase in Irish spreaking individuals by approximately 3471."
   ]
  },
  {
   "cell_type": "markdown",
   "id": "369905ff",
   "metadata": {},
   "source": [
    " "
   ]
  },
  {
   "cell_type": "markdown",
   "id": "369905ff",
   "metadata": {},
   "source": [
    " "
   ]
  },
  {
   "cell_type": "code",
   "execution_count": 51,
   "id": "0b672d45",
   "metadata": {},
   "outputs": [],
   "source": [
    "# use the fitted model to predict for testing data\n",
    "\n",
    "y_pred = mod.predict(X_test) "
   ]
  },
  {
   "cell_type": "code",
   "execution_count": 52,
   "id": "33855f8c",
   "metadata": {},
   "outputs": [
    {
     "name": "stdout",
     "output_type": "stream",
     "text": [
      "Mean Square Error = 59883888.68749032\n",
      "Root Mean Squared Error = 7738.468109870992\n"
     ]
    }
   ],
   "source": [
    "# get the MSE, RMSE values for testing data\n",
    "\n",
    "print(\"Mean Square Error =\",metrics.mean_squared_error(y_test, y_pred))\n",
    "print(\"Root Mean Squared Error =\",np.sqrt(metrics.mean_squared_error(y_test, y_pred)))"
   ]
  },
  {
   "cell_type": "markdown",
   "id": "369905ff",
   "metadata": {},
   "source": [
    " "
   ]
  },
  {
   "cell_type": "markdown",
   "id": "105130e6",
   "metadata": {},
   "source": [
    "### 4.2 Performing Hypothesis Testing"
   ]
  },
  {
   "cell_type": "code",
   "execution_count": 53,
   "id": "487a17c9",
   "metadata": {},
   "outputs": [
    {
     "data": {
      "text/html": [
       "<div>\n",
       "<style scoped>\n",
       "    .dataframe tbody tr th:only-of-type {\n",
       "        vertical-align: middle;\n",
       "    }\n",
       "\n",
       "    .dataframe tbody tr th {\n",
       "        vertical-align: top;\n",
       "    }\n",
       "\n",
       "    .dataframe thead th {\n",
       "        text-align: right;\n",
       "    }\n",
       "</style>\n",
       "<table border=\"1\" class=\"dataframe\">\n",
       "  <thead>\n",
       "    <tr style=\"text-align: right;\">\n",
       "      <th></th>\n",
       "      <th>0</th>\n",
       "      <th>1</th>\n",
       "    </tr>\n",
       "  </thead>\n",
       "  <tbody>\n",
       "    <tr>\n",
       "      <th>const</th>\n",
       "      <td>-3268.197748</td>\n",
       "      <td>7095.795463</td>\n",
       "    </tr>\n",
       "    <tr>\n",
       "      <th>Ireland_Nationality</th>\n",
       "      <td>-1.460367</td>\n",
       "      <td>2.906470</td>\n",
       "    </tr>\n",
       "    <tr>\n",
       "      <th>Ireland_Birthplace</th>\n",
       "      <td>-2.569688</td>\n",
       "      <td>1.771510</td>\n",
       "    </tr>\n",
       "    <tr>\n",
       "      <th>Poland_Birthplace</th>\n",
       "      <td>-20.278529</td>\n",
       "      <td>89.703362</td>\n",
       "    </tr>\n",
       "    <tr>\n",
       "      <th>Poland_Nationality</th>\n",
       "      <td>-81.324584</td>\n",
       "      <td>19.157712</td>\n",
       "    </tr>\n",
       "    <tr>\n",
       "      <th>UK_Nationality</th>\n",
       "      <td>-2.163622</td>\n",
       "      <td>8.445020</td>\n",
       "    </tr>\n",
       "    <tr>\n",
       "      <th>UK_Birthplace</th>\n",
       "      <td>-3.275446</td>\n",
       "      <td>1.941912</td>\n",
       "    </tr>\n",
       "    <tr>\n",
       "      <th>Rest_World_Birthplace</th>\n",
       "      <td>-1.879151</td>\n",
       "      <td>1.385550</td>\n",
       "    </tr>\n",
       "    <tr>\n",
       "      <th>Other_EU_Birthplace</th>\n",
       "      <td>-25.761713</td>\n",
       "      <td>31.458927</td>\n",
       "    </tr>\n",
       "    <tr>\n",
       "      <th>Other_EU_Nationality</th>\n",
       "      <td>-30.292788</td>\n",
       "      <td>24.760632</td>\n",
       "    </tr>\n",
       "  </tbody>\n",
       "</table>\n",
       "</div>"
      ],
      "text/plain": [
       "                                 0            1\n",
       "const                 -3268.197748  7095.795463\n",
       "Ireland_Nationality      -1.460367     2.906470\n",
       "Ireland_Birthplace       -2.569688     1.771510\n",
       "Poland_Birthplace       -20.278529    89.703362\n",
       "Poland_Nationality      -81.324584    19.157712\n",
       "UK_Nationality           -2.163622     8.445020\n",
       "UK_Birthplace            -3.275446     1.941912\n",
       "Rest_World_Birthplace    -1.879151     1.385550\n",
       "Other_EU_Birthplace     -25.761713    31.458927\n",
       "Other_EU_Nationality    -30.292788    24.760632"
      ]
     },
     "execution_count": 53,
     "metadata": {},
     "output_type": "execute_result"
    }
   ],
   "source": [
    "# obtain the 95% confidence intervals for all the estimated coefficients\n",
    "\n",
    "mod.conf_int()"
   ]
  },
  {
   "cell_type": "markdown",
   "id": "6898fe84",
   "metadata": {},
   "source": [
    "The confidence intervals can be interpreted as follows :-\n",
    "If the population from which this sample was drawn was sampled 100 times then approximately 95 of those confidence intervals would contain the \"true\" coefficient (i.e coefficient lies in that interval)"
   ]
  },
  {
   "cell_type": "markdown",
   "id": "369905ff",
   "metadata": {},
   "source": [
    " "
   ]
  },
  {
   "cell_type": "markdown",
   "id": "369905ff",
   "metadata": {},
   "source": [
    " "
   ]
  },
  {
   "cell_type": "code",
   "execution_count": 54,
   "id": "d6359841",
   "metadata": {},
   "outputs": [
    {
     "data": {
      "text/plain": [
       "const                    0.441515\n",
       "Ireland_Nationality      0.489207\n",
       "Ireland_Birthplace       0.699269\n",
       "Poland_Birthplace        0.197230\n",
       "Poland_Nationality       0.205763\n",
       "UK_Nationality           0.224811\n",
       "UK_Birthplace            0.592190\n",
       "Rest_World_Birthplace    0.750522\n",
       "Other_EU_Birthplace      0.833979\n",
       "Other_EU_Nationality     0.832468\n",
       "dtype: float64"
      ]
     },
     "execution_count": 54,
     "metadata": {},
     "output_type": "execute_result"
    }
   ],
   "source": [
    "# obatin the p-values for all estimated coefficients.\n",
    "# these values simply represent the probability that the coefficient is actually zero \n",
    "\n",
    "mod.pvalues"
   ]
  },
  {
   "cell_type": "markdown",
   "id": "59ecc284",
   "metadata": {},
   "source": [
    "These p-values can now be used for hypothesis testing for each coefficient where\n",
    "\n",
    "H0 (null hypothesis) : the predictor variable is insignificant (i.e βi = 0) and\n",
    "\n",
    "Ha (alternative hypothesis) : the predictor variable is significant (i.e βi != 0)\n"
   ]
  },
  {
   "cell_type": "markdown",
   "id": "369905ff",
   "metadata": {},
   "source": [
    " "
   ]
  },
  {
   "cell_type": "markdown",
   "id": "369905ff",
   "metadata": {},
   "source": [
    " "
   ]
  },
  {
   "cell_type": "code",
   "execution_count": 55,
   "id": "54726cc9",
   "metadata": {},
   "outputs": [
    {
     "data": {
      "text/plain": [
       "0.9887914376770048"
      ]
     },
     "execution_count": 55,
     "metadata": {},
     "output_type": "execute_result"
    }
   ],
   "source": [
    "# obtain the R-squared value of the model.\n",
    "\n",
    "mod.rsquared "
   ]
  },
  {
   "cell_type": "markdown",
   "id": "37a12340",
   "metadata": {},
   "source": [
    "It tells the proportion of variance explained by the model. It lies in the interval [0,1].\n",
    "Closer the R-squared value to 1, better is the model because it means that more variance is explained by the model"
   ]
  },
  {
   "cell_type": "markdown",
   "id": "369905ff",
   "metadata": {},
   "source": [
    " "
   ]
  },
  {
   "cell_type": "markdown",
   "id": "369905ff",
   "metadata": {},
   "source": [
    " "
   ]
  },
  {
   "cell_type": "code",
   "execution_count": 56,
   "id": "dd441444",
   "metadata": {},
   "outputs": [
    {
     "data": {
      "text/html": [
       "<table class=\"simpletable\">\n",
       "<caption>OLS Regression Results</caption>\n",
       "<tr>\n",
       "  <th>Dep. Variable:</th>           <td>Yes</td>       <th>  R-squared:         </th> <td>   0.989</td>\n",
       "</tr>\n",
       "<tr>\n",
       "  <th>Model:</th>                   <td>OLS</td>       <th>  Adj. R-squared:    </th> <td>   0.982</td>\n",
       "</tr>\n",
       "<tr>\n",
       "  <th>Method:</th>             <td>Least Squares</td>  <th>  F-statistic:       </th> <td>   137.2</td>\n",
       "</tr>\n",
       "<tr>\n",
       "  <th>Date:</th>             <td>Mon, 20 Dec 2021</td> <th>  Prob (F-statistic):</th> <td>4.36e-12</td>\n",
       "</tr>\n",
       "<tr>\n",
       "  <th>Time:</th>                 <td>04:23:19</td>     <th>  Log-Likelihood:    </th> <td> -229.77</td>\n",
       "</tr>\n",
       "<tr>\n",
       "  <th>No. Observations:</th>      <td>    24</td>      <th>  AIC:               </th> <td>   479.5</td>\n",
       "</tr>\n",
       "<tr>\n",
       "  <th>Df Residuals:</th>          <td>    14</td>      <th>  BIC:               </th> <td>   491.3</td>\n",
       "</tr>\n",
       "<tr>\n",
       "  <th>Df Model:</th>              <td>     9</td>      <th>                     </th>     <td> </td>   \n",
       "</tr>\n",
       "<tr>\n",
       "  <th>Covariance Type:</th>      <td>nonrobust</td>    <th>                     </th>     <td> </td>   \n",
       "</tr>\n",
       "</table>\n",
       "<table class=\"simpletable\">\n",
       "<tr>\n",
       "            <td></td>               <th>coef</th>     <th>std err</th>      <th>t</th>      <th>P>|t|</th>  <th>[0.025</th>    <th>0.975]</th>  \n",
       "</tr>\n",
       "<tr>\n",
       "  <th>const</th>                 <td> 1913.7989</td> <td> 2416.090</td> <td>    0.792</td> <td> 0.442</td> <td>-3268.198</td> <td> 7095.795</td>\n",
       "</tr>\n",
       "<tr>\n",
       "  <th>Ireland_Nationality</th>   <td>    0.7231</td> <td>    1.018</td> <td>    0.710</td> <td> 0.489</td> <td>   -1.460</td> <td>    2.906</td>\n",
       "</tr>\n",
       "<tr>\n",
       "  <th>Ireland_Birthplace</th>    <td>   -0.3991</td> <td>    1.012</td> <td>   -0.394</td> <td> 0.699</td> <td>   -2.570</td> <td>    1.772</td>\n",
       "</tr>\n",
       "<tr>\n",
       "  <th>Poland_Birthplace</th>     <td>   34.7124</td> <td>   25.639</td> <td>    1.354</td> <td> 0.197</td> <td>  -20.279</td> <td>   89.703</td>\n",
       "</tr>\n",
       "<tr>\n",
       "  <th>Poland_Nationality</th>    <td>  -31.0834</td> <td>   23.425</td> <td>   -1.327</td> <td> 0.206</td> <td>  -81.325</td> <td>   19.158</td>\n",
       "</tr>\n",
       "<tr>\n",
       "  <th>UK_Nationality</th>        <td>    3.1407</td> <td>    2.473</td> <td>    1.270</td> <td> 0.225</td> <td>   -2.164</td> <td>    8.445</td>\n",
       "</tr>\n",
       "<tr>\n",
       "  <th>UK_Birthplace</th>         <td>   -0.6668</td> <td>    1.216</td> <td>   -0.548</td> <td> 0.592</td> <td>   -3.275</td> <td>    1.942</td>\n",
       "</tr>\n",
       "<tr>\n",
       "  <th>Rest_World_Birthplace</th> <td>   -0.2468</td> <td>    0.761</td> <td>   -0.324</td> <td> 0.751</td> <td>   -1.879</td> <td>    1.386</td>\n",
       "</tr>\n",
       "<tr>\n",
       "  <th>Other_EU_Birthplace</th>   <td>    2.8486</td> <td>   13.339</td> <td>    0.214</td> <td> 0.834</td> <td>  -25.762</td> <td>   31.459</td>\n",
       "</tr>\n",
       "<tr>\n",
       "  <th>Other_EU_Nationality</th>  <td>   -2.7661</td> <td>   12.834</td> <td>   -0.216</td> <td> 0.832</td> <td>  -30.293</td> <td>   24.761</td>\n",
       "</tr>\n",
       "</table>\n",
       "<table class=\"simpletable\">\n",
       "<tr>\n",
       "  <th>Omnibus:</th>       <td> 2.769</td> <th>  Durbin-Watson:     </th> <td>   2.111</td>\n",
       "</tr>\n",
       "<tr>\n",
       "  <th>Prob(Omnibus):</th> <td> 0.250</td> <th>  Jarque-Bera (JB):  </th> <td>   1.312</td>\n",
       "</tr>\n",
       "<tr>\n",
       "  <th>Skew:</th>          <td>-0.486</td> <th>  Prob(JB):          </th> <td>   0.519</td>\n",
       "</tr>\n",
       "<tr>\n",
       "  <th>Kurtosis:</th>      <td> 3.606</td> <th>  Cond. No.          </th> <td>5.58e+05</td>\n",
       "</tr>\n",
       "</table><br/><br/>Notes:<br/>[1] Standard Errors assume that the covariance matrix of the errors is correctly specified.<br/>[2] The condition number is large, 5.58e+05. This might indicate that there are<br/>strong multicollinearity or other numerical problems."
      ],
      "text/plain": [
       "<class 'statsmodels.iolib.summary.Summary'>\n",
       "\"\"\"\n",
       "                            OLS Regression Results                            \n",
       "==============================================================================\n",
       "Dep. Variable:                    Yes   R-squared:                       0.989\n",
       "Model:                            OLS   Adj. R-squared:                  0.982\n",
       "Method:                 Least Squares   F-statistic:                     137.2\n",
       "Date:                Mon, 20 Dec 2021   Prob (F-statistic):           4.36e-12\n",
       "Time:                        04:23:19   Log-Likelihood:                -229.77\n",
       "No. Observations:                  24   AIC:                             479.5\n",
       "Df Residuals:                      14   BIC:                             491.3\n",
       "Df Model:                           9                                         \n",
       "Covariance Type:            nonrobust                                         \n",
       "=========================================================================================\n",
       "                            coef    std err          t      P>|t|      [0.025      0.975]\n",
       "-----------------------------------------------------------------------------------------\n",
       "const                  1913.7989   2416.090      0.792      0.442   -3268.198    7095.795\n",
       "Ireland_Nationality       0.7231      1.018      0.710      0.489      -1.460       2.906\n",
       "Ireland_Birthplace       -0.3991      1.012     -0.394      0.699      -2.570       1.772\n",
       "Poland_Birthplace        34.7124     25.639      1.354      0.197     -20.279      89.703\n",
       "Poland_Nationality      -31.0834     23.425     -1.327      0.206     -81.325      19.158\n",
       "UK_Nationality            3.1407      2.473      1.270      0.225      -2.164       8.445\n",
       "UK_Birthplace            -0.6668      1.216     -0.548      0.592      -3.275       1.942\n",
       "Rest_World_Birthplace    -0.2468      0.761     -0.324      0.751      -1.879       1.386\n",
       "Other_EU_Birthplace       2.8486     13.339      0.214      0.834     -25.762      31.459\n",
       "Other_EU_Nationality     -2.7661     12.834     -0.216      0.832     -30.293      24.761\n",
       "==============================================================================\n",
       "Omnibus:                        2.769   Durbin-Watson:                   2.111\n",
       "Prob(Omnibus):                  0.250   Jarque-Bera (JB):                1.312\n",
       "Skew:                          -0.486   Prob(JB):                        0.519\n",
       "Kurtosis:                       3.606   Cond. No.                     5.58e+05\n",
       "==============================================================================\n",
       "\n",
       "Notes:\n",
       "[1] Standard Errors assume that the covariance matrix of the errors is correctly specified.\n",
       "[2] The condition number is large, 5.58e+05. This might indicate that there are\n",
       "strong multicollinearity or other numerical problems.\n",
       "\"\"\""
      ]
     },
     "execution_count": 56,
     "metadata": {},
     "output_type": "execute_result"
    }
   ],
   "source": [
    "# print the entire summary of the linear model\n",
    "\n",
    "mod.summary()"
   ]
  },
  {
   "cell_type": "markdown",
   "id": "4daf926e",
   "metadata": {},
   "source": [
    "From all the above results, we can infer following information :-\n",
    "\n",
    "* By looking at the estimated values of coefficients (β's), we can clearly say that interpreting these estimated values is pointless. For example, there is a negative value for coefficient of Ireland_Birthplace. But logically this seems to be incorrect as it is highly impossible that people who are born in Ireland don't know to speak Irish.\n",
    "\n",
    "* Secondly the mean squared error (MSE) and root mean squared error (RMSE) values for testing data are very high.\n",
    "\n",
    "* Thirdly the p-values for all variables are high (greater than 0.05). Hence this says that none of the predictor variables are significant in determining the number of Irish speaking population. This seems to be logically incorrect.\n",
    "\n",
    "* Also the value for R-squared and adjusted R-squared are very high (near to 1). This says that almost all of the variance is explained by the model.\n",
    "\n",
    "* After analysing all these statistical information,  we can finally infer that the model mentioned above explains a lot of variation within the data but is not significant (model is worthless).\n"
   ]
  },
  {
   "cell_type": "markdown",
   "id": "9098d066",
   "metadata": {},
   "source": [
    " "
   ]
  },
  {
   "cell_type": "markdown",
   "id": "0b443555",
   "metadata": {},
   "source": [
    "### 4.3 Testing assumptions of Linear Regression"
   ]
  },
  {
   "cell_type": "markdown",
   "id": "9098d066",
   "metadata": {},
   "source": [
    " "
   ]
  },
  {
   "cell_type": "markdown",
   "id": "9098d066",
   "metadata": {},
   "source": [
    "##### Linearity Assumption \n",
    "\n",
    "* It states that there must be a linear relationship between the response variable and each predictor variable.\n",
    "\n",
    "* This assumption can be checked by plotting the component residual plots and added variable plots."
   ]
  },
  {
   "cell_type": "code",
   "execution_count": 57,
   "id": "1f3df82b",
   "metadata": {},
   "outputs": [
    {
     "name": "stdout",
     "output_type": "stream",
     "text": [
      "Figure(432x288)\n"
     ]
    },
    {
     "data": {
      "image/png": "[encoded data removed]",
      "text/plain": [
       "<Figure size 432x288 with 1 Axes>"
      ]
     },
     "metadata": {
      "needs_background": "light"
     },
     "output_type": "display_data"
    }
   ],
   "source": [
    "print(sm.graphics.plot_ccpr(mod, \"Ireland_Nationality\"))"
   ]
  },
  {
   "cell_type": "code",
   "execution_count": 58,
   "id": "b7b65c92",
   "metadata": {},
   "outputs": [
    {
     "name": "stdout",
     "output_type": "stream",
     "text": [
      "Figure(432x288)\n"
     ]
    },
    {
     "data": {
      "image/png": "[encoded data removed]",
      "text/plain": [
       "<Figure size 432x288 with 1 Axes>"
      ]
     },
     "metadata": {
      "needs_background": "light"
     },
     "output_type": "display_data"
    }
   ],
   "source": [
    "print(sm.graphics.plot_ccpr(mod, \"Poland_Birthplace\"))"
   ]
  },
  {
   "cell_type": "code",
   "execution_count": 59,
   "id": "adbac24d",
   "metadata": {},
   "outputs": [
    {
     "name": "stdout",
     "output_type": "stream",
     "text": [
      "Figure(432x288)\n"
     ]
    },
    {
     "data": {
      "image/png": "[encoded data removed]",
      "text/plain": [
       "<Figure size 432x288 with 1 Axes>"
      ]
     },
     "metadata": {
      "needs_background": "light"
     },
     "output_type": "display_data"
    }
   ],
   "source": [
    "print(sm.graphics.plot_ccpr(mod, \"Ireland_Birthplace\"))"
   ]
  },
  {
   "cell_type": "markdown",
   "id": "cb8c2d37",
   "metadata": {},
   "source": [
    "From all the above plots (and similarly plotting for rest of the variables), we can clearly see that there exists strong linear relationship between the response variable (\"YES\") and each predictor variable. Hence we can say that this assumpotion is not violated."
   ]
  },
  {
   "cell_type": "markdown",
   "id": "9098d066",
   "metadata": {},
   "source": [
    " "
   ]
  },
  {
   "cell_type": "markdown",
   "id": "9098d066",
   "metadata": {},
   "source": [
    "##### Correlation in Errors (also called Multicollinearity) \n",
    "\n",
    "* It states that there should not be any correlation between the predictor variables. Otherwise this may affect the linear model as correlated variables add up their effect. This may lead to masking the effect of other variables.\n",
    "\n",
    "* This assumption can be checked by performing Durbin - Watson Test. The Durbin - Watson test statistic should ideally be 2 (it indicates that there is no autocorrelation). Value less than 2 indicates positive autocorrelation and value greater than 2 means there is negative autocorrelation. The value for test statistic lies in the range [0,4].\n",
    "\n",
    "* For practocal purposes, if the Durbin - Watson test statistic is between 1.5 and 2.5, then it not a matter of serious concern."
   ]
  },
  {
   "cell_type": "code",
   "execution_count": 60,
   "id": "6311a707",
   "metadata": {},
   "outputs": [
    {
     "data": {
      "text/plain": [
       "2.111177258474505"
      ]
     },
     "execution_count": 60,
     "metadata": {},
     "output_type": "execute_result"
    }
   ],
   "source": [
    "res = mod.resid\n",
    "sm.stats.stattools.durbin_watson(res, axis=0)"
   ]
  },
  {
   "cell_type": "markdown",
   "id": "fe2a28f6",
   "metadata": {},
   "source": [
    "We can see that Durbin - Watson test statistic is 2.1, which lies in the acceptable range of 1.5 - 2.5. Hence we can say that there is no serious collinearity between predictor variables."
   ]
  },
  {
   "cell_type": "markdown",
   "id": "fe2a28f6",
   "metadata": {},
   "source": [
    " "
   ]
  },
  {
   "cell_type": "markdown",
   "id": "446f3ca9",
   "metadata": {},
   "source": [
    " "
   ]
  },
  {
   "cell_type": "markdown",
   "id": "7e712ba4",
   "metadata": {},
   "source": [
    "### 4.4 Anova Table "
   ]
  },
  {
   "cell_type": "code",
   "execution_count": 61,
   "id": "affa2662",
   "metadata": {
    "scrolled": true
   },
   "outputs": [
    {
     "name": "stdout",
     "output_type": "stream",
     "text": [
      "                             sum_sq    df         F    PR(>F)\n",
      "Ireland_Nationality    1.008671e+07   1.0  0.377917  0.545324\n",
      "Ireland_Birthplace     2.003430e+06   1.0  0.075062  0.786781\n",
      "Poland_Birthplace      3.373025e+07   1.0  1.263764  0.273626\n",
      "Poland_Nationality     3.144157e+07   1.0  1.178015  0.290064\n",
      "UK_Nationality         4.965603e+07   1.0  1.860452  0.187015\n",
      "UK_Birthplace          6.583913e+06   1.0  0.246678  0.624583\n",
      "Rest_World_Birthplace  9.126953e+06   1.0  0.341958  0.564932\n",
      "Other_EU_Birthplace    3.372989e+06   1.0  0.126375  0.725766\n",
      "Other_EU_Nationality   3.438455e+06   1.0  0.128828  0.723234\n",
      "Residual               5.604964e+08  21.0       NaN       NaN\n"
     ]
    }
   ],
   "source": [
    "from statsmodels.stats import anova\n",
    "import statsmodels.formula.api as smf\n",
    "mod1 = smf.ols(\"Yes ~ Ireland_Nationality + Ireland_Birthplace + Poland_Birthplace + Poland_Nationality + UK_Nationality + UK_Birthplace + Rest_World_Birthplace + Other_EU_Birthplace + Other_EU_Nationality\", Irish_and_Nationality_merged).fit()\n",
    "# print type II ANOVA\n",
    "print(anova.anova_lm(mod1, typ=2))"
   ]
  },
  {
   "cell_type": "markdown",
   "id": "b2ffacce",
   "metadata": {},
   "source": [
    "We can again see that the p-values for all the predictors are greater than 0.05, hence indicating that none of the predictor variables is significant in linearly predicting the Irish speaking population."
   ]
  },
  {
   "cell_type": "markdown",
   "id": "6c86c6c4",
   "metadata": {},
   "source": [
    " "
   ]
  },
  {
   "cell_type": "markdown",
   "id": "229a0653",
   "metadata": {},
   "source": [
    " "
   ]
  },
  {
   "cell_type": "markdown",
   "id": "78b14138",
   "metadata": {},
   "source": [
    "### 4.5 Trying Linear Regression with new parameters"
   ]
  },
  {
   "cell_type": "code",
   "execution_count": 62,
   "id": "63036bbe",
   "metadata": {},
   "outputs": [
    {
     "data": {
      "text/plain": [
       "T3_1YES       1.000000\n",
       "T3_2ALLT      1.000000\n",
       "T3_2ALLF      0.999817\n",
       "T3_2ALLM      0.999736\n",
       "T10_3_EDUT    0.992607\n",
       "T3_2LOOEST    0.992134\n",
       "T3_2LOOESF    0.991984\n",
       "T3_2LOOESM    0.991848\n",
       "T10_3_EDUF    0.991627\n",
       "T10_3_ENGT    0.991238\n",
       "T3_2WOESF     0.990886\n",
       "T10_3_HEAF    0.990738\n",
       "T10_1_20T     0.990217\n",
       "T10_1_20F     0.990157\n",
       "T6_1_HB_H     0.990036\n",
       "T6_1_HB_P     0.989631\n",
       "T10_3_ENGM    0.989509\n",
       "T3_2WOEST     0.988943\n",
       "T10_4_HCF     0.988548\n",
       "T10_1_20M     0.988300\n",
       "Name: T3_1YES, dtype: float64"
      ]
     },
     "execution_count": 62,
     "metadata": {},
     "output_type": "execute_result"
    }
   ],
   "source": [
    "# finding the correlation of all the columns in county_census dataset with our response variable \"T3_1YES\" \n",
    "# which describes the number of people who speak Irish\n",
    "# then sort the correlation values in descending order and take only top 20 values.\n",
    "\n",
    "census_county.corr()['T3_1YES'].abs().sort_values(ascending = False).head(20)"
   ]
  },
  {
   "cell_type": "markdown",
   "id": "cf711f33",
   "metadata": {},
   "source": [
    "Now, after looking at the description of all these columns, we finally consider following columns for linear regresion:- \n",
    "\n",
    "* T10_3_EDUT (Education and teacher training - Total)\n",
    "\n",
    "* T10_3_EDUF (Education and teacher training - Females)\n",
    "\n",
    "* T10_3_ENGT (Engineering, manufacturing and construction - Total)\n",
    "\n",
    "* T10_3_HEAF (Health and welfare - Females)\n",
    "\n",
    "* T10_1_20T(Age 20 - Total)\n",
    "\n",
    "* T10_1_20F(Age 20 - Females)\n",
    "\n",
    "* T10_3_ENGM(Engineering, manufacturing and construction - Males)"
   ]
  },
  {
   "cell_type": "code",
   "execution_count": 63,
   "id": "6b49b5d4",
   "metadata": {},
   "outputs": [],
   "source": [
    "# extract the above mentioned columns and create a new dataframe of predictor varibales\n",
    "subset_data = census_county[['T10_3_EDUT' , 'T10_3_EDUF' , 'T10_3_ENGT', 'T10_3_HEAF' , 'T10_1_20T' , 'T10_1_20F', 'T10_3_ENGM']]\n",
    "\n",
    "# necessary to prepend column of 1's to X in order to consider the intercept term\n",
    "subset_data = sm.add_constant(subset_data)\n",
    "\n",
    "# defining the target variable\n",
    "new_target = census_county['T3_1YES']\n",
    "\n",
    "# performing the splitting of entire data into training and testing data in the ratio of 80:20\n",
    "X_train, X_test, y_train, y_test = train_test_split(subset_data, new_target, test_size=0.2, random_state=0)"
   ]
  },
  {
   "cell_type": "code",
   "execution_count": 64,
   "id": "c9eabd4e",
   "metadata": {},
   "outputs": [],
   "source": [
    "# fitting a linear model to the new data\n",
    "\n",
    "mod1 = sm.OLS(y_train, X_train, axis=1).fit()"
   ]
  },
  {
   "cell_type": "code",
   "execution_count": 65,
   "id": "b7393b3d",
   "metadata": {},
   "outputs": [
    {
     "data": {
      "text/html": [
       "<table class=\"simpletable\">\n",
       "<caption>OLS Regression Results</caption>\n",
       "<tr>\n",
       "  <th>Dep. Variable:</th>         <td>T3_1YES</td>     <th>  R-squared:         </th> <td>   0.996</td>\n",
       "</tr>\n",
       "<tr>\n",
       "  <th>Model:</th>                   <td>OLS</td>       <th>  Adj. R-squared:    </th> <td>   0.994</td>\n",
       "</tr>\n",
       "<tr>\n",
       "  <th>Method:</th>             <td>Least Squares</td>  <th>  F-statistic:       </th> <td>   509.8</td>\n",
       "</tr>\n",
       "<tr>\n",
       "  <th>Date:</th>             <td>Mon, 20 Dec 2021</td> <th>  Prob (F-statistic):</th> <td>1.39e-17</td>\n",
       "</tr>\n",
       "<tr>\n",
       "  <th>Time:</th>                 <td>04:23:20</td>     <th>  Log-Likelihood:    </th> <td> -218.72</td>\n",
       "</tr>\n",
       "<tr>\n",
       "  <th>No. Observations:</th>      <td>    24</td>      <th>  AIC:               </th> <td>   453.4</td>\n",
       "</tr>\n",
       "<tr>\n",
       "  <th>Df Residuals:</th>          <td>    16</td>      <th>  BIC:               </th> <td>   462.9</td>\n",
       "</tr>\n",
       "<tr>\n",
       "  <th>Df Model:</th>              <td>     7</td>      <th>                     </th>     <td> </td>   \n",
       "</tr>\n",
       "<tr>\n",
       "  <th>Covariance Type:</th>      <td>nonrobust</td>    <th>                     </th>     <td> </td>   \n",
       "</tr>\n",
       "</table>\n",
       "<table class=\"simpletable\">\n",
       "<tr>\n",
       "       <td></td>         <th>coef</th>     <th>std err</th>      <th>t</th>      <th>P>|t|</th>  <th>[0.025</th>    <th>0.975]</th>  \n",
       "</tr>\n",
       "<tr>\n",
       "  <th>const</th>      <td>   -4.1213</td> <td> 1516.441</td> <td>   -0.003</td> <td> 0.998</td> <td>-3218.834</td> <td> 3210.591</td>\n",
       "</tr>\n",
       "<tr>\n",
       "  <th>T10_3_EDUT</th> <td>   15.3551</td> <td>    9.613</td> <td>    1.597</td> <td> 0.130</td> <td>   -5.023</td> <td>   35.733</td>\n",
       "</tr>\n",
       "<tr>\n",
       "  <th>T10_3_EDUF</th> <td>   -3.1375</td> <td>   11.512</td> <td>   -0.273</td> <td> 0.789</td> <td>  -27.541</td> <td>   21.266</td>\n",
       "</tr>\n",
       "<tr>\n",
       "  <th>T10_3_ENGT</th> <td>   -0.8236</td> <td>    3.557</td> <td>   -0.232</td> <td> 0.820</td> <td>   -8.364</td> <td>    6.717</td>\n",
       "</tr>\n",
       "<tr>\n",
       "  <th>T10_3_HEAF</th> <td>   -1.0366</td> <td>    1.814</td> <td>   -0.571</td> <td> 0.576</td> <td>   -4.883</td> <td>    2.810</td>\n",
       "</tr>\n",
       "<tr>\n",
       "  <th>T10_1_20T</th>  <td>    7.2549</td> <td>    6.743</td> <td>    1.076</td> <td> 0.298</td> <td>   -7.040</td> <td>   21.550</td>\n",
       "</tr>\n",
       "<tr>\n",
       "  <th>T10_1_20F</th>  <td>  -20.9996</td> <td>   13.309</td> <td>   -1.578</td> <td> 0.134</td> <td>  -49.212</td> <td>    7.213</td>\n",
       "</tr>\n",
       "<tr>\n",
       "  <th>T10_3_ENGM</th> <td>    4.3126</td> <td>    3.373</td> <td>    1.278</td> <td> 0.219</td> <td>   -2.839</td> <td>   11.464</td>\n",
       "</tr>\n",
       "</table>\n",
       "<table class=\"simpletable\">\n",
       "<tr>\n",
       "  <th>Omnibus:</th>       <td> 1.564</td> <th>  Durbin-Watson:     </th> <td>   1.675</td>\n",
       "</tr>\n",
       "<tr>\n",
       "  <th>Prob(Omnibus):</th> <td> 0.458</td> <th>  Jarque-Bera (JB):  </th> <td>   1.269</td>\n",
       "</tr>\n",
       "<tr>\n",
       "  <th>Skew:</th>          <td> 0.380</td> <th>  Prob(JB):          </th> <td>   0.530</td>\n",
       "</tr>\n",
       "<tr>\n",
       "  <th>Kurtosis:</th>      <td> 2.169</td> <th>  Cond. No.          </th> <td>4.61e+04</td>\n",
       "</tr>\n",
       "</table><br/><br/>Notes:<br/>[1] Standard Errors assume that the covariance matrix of the errors is correctly specified.<br/>[2] The condition number is large, 4.61e+04. This might indicate that there are<br/>strong multicollinearity or other numerical problems."
      ],
      "text/plain": [
       "<class 'statsmodels.iolib.summary.Summary'>\n",
       "\"\"\"\n",
       "                            OLS Regression Results                            \n",
       "==============================================================================\n",
       "Dep. Variable:                T3_1YES   R-squared:                       0.996\n",
       "Model:                            OLS   Adj. R-squared:                  0.994\n",
       "Method:                 Least Squares   F-statistic:                     509.8\n",
       "Date:                Mon, 20 Dec 2021   Prob (F-statistic):           1.39e-17\n",
       "Time:                        04:23:20   Log-Likelihood:                -218.72\n",
       "No. Observations:                  24   AIC:                             453.4\n",
       "Df Residuals:                      16   BIC:                             462.9\n",
       "Df Model:                           7                                         \n",
       "Covariance Type:            nonrobust                                         \n",
       "==============================================================================\n",
       "                 coef    std err          t      P>|t|      [0.025      0.975]\n",
       "------------------------------------------------------------------------------\n",
       "const         -4.1213   1516.441     -0.003      0.998   -3218.834    3210.591\n",
       "T10_3_EDUT    15.3551      9.613      1.597      0.130      -5.023      35.733\n",
       "T10_3_EDUF    -3.1375     11.512     -0.273      0.789     -27.541      21.266\n",
       "T10_3_ENGT    -0.8236      3.557     -0.232      0.820      -8.364       6.717\n",
       "T10_3_HEAF    -1.0366      1.814     -0.571      0.576      -4.883       2.810\n",
       "T10_1_20T      7.2549      6.743      1.076      0.298      -7.040      21.550\n",
       "T10_1_20F    -20.9996     13.309     -1.578      0.134     -49.212       7.213\n",
       "T10_3_ENGM     4.3126      3.373      1.278      0.219      -2.839      11.464\n",
       "==============================================================================\n",
       "Omnibus:                        1.564   Durbin-Watson:                   1.675\n",
       "Prob(Omnibus):                  0.458   Jarque-Bera (JB):                1.269\n",
       "Skew:                           0.380   Prob(JB):                        0.530\n",
       "Kurtosis:                       2.169   Cond. No.                     4.61e+04\n",
       "==============================================================================\n",
       "\n",
       "Notes:\n",
       "[1] Standard Errors assume that the covariance matrix of the errors is correctly specified.\n",
       "[2] The condition number is large, 4.61e+04. This might indicate that there are\n",
       "strong multicollinearity or other numerical problems.\n",
       "\"\"\""
      ]
     },
     "execution_count": 65,
     "metadata": {},
     "output_type": "execute_result"
    }
   ],
   "source": [
    "# printing out the summary of newly trained linear model\n",
    "\n",
    "mod1.summary()"
   ]
  },
  {
   "cell_type": "markdown",
   "id": "229a0653",
   "metadata": {},
   "source": [
    " "
   ]
  },
  {
   "cell_type": "markdown",
   "id": "229a0653",
   "metadata": {},
   "source": [
    " "
   ]
  },
  {
   "cell_type": "markdown",
   "id": "fd743607",
   "metadata": {},
   "source": [
    "Again we see that for all the predictor variables, p-values are higher than 0.05, thus indicating that none of these predictors are significant. But the R-squared and adjusted R-squared values are near to 1.\n",
    "\n",
    "Hence we can say that this model is also of no use.\n",
    "\n",
    "Thus we conclude that there maybe the case that there is more complex relation between the number of people speaking Irish language and predictor variables."
   ]
  },
  {
   "cell_type": "markdown",
   "id": "229a0653",
   "metadata": {},
   "source": [
    " "
   ]
  },
  {
   "cell_type": "markdown",
   "id": "229a0653",
   "metadata": {},
   "source": [
    " "
   ]
  },
  {
   "cell_type": "markdown",
   "id": "acebe937",
   "metadata": {},
   "source": [
    "## 5.  CONCLUSION"
   ]
  },
  {
   "cell_type": "markdown",
   "id": "0a11357b",
   "metadata": {},
   "source": [
    "From all the above data analysis on 2016 Irish Census Data, we can infer following information :-\n",
    "\n",
    "1) There exists a strong relationship between the predictor variables (such as Nationality/Birthplace) and number of people who speak Irish. But this relationship cannot be properly explained by a linear model. A more complex model needs to be used for understanding the relationship between them. This model can then be used to predict the number of people who speak Irish in a county given the values of predictor variables.\n",
    "\n",
    "2) This can also help the government to plan and implement the policies such that more number of individuals living in Ireland can speak Irish. Irish being the mother tongue and national language, it would be better if more and more number of individuals can understand and speak Irish.\n",
    "\n",
    "3) As seen above, Dublin City has very less proportions of Irish speaking population compared to any other county. Thus measures should be taken such as free / subsised Irish Training classes, providing job opportunities to the people who know Irish, giving incentives to such people and so on. By all such measures, we can see an increase in Irish speaking individuals over the coming years.\n",
    "\n",
    "4) As seen above, Dublin City and Galway City have the lowest proportion of population who are born in Ireland and high number of population from rest of the world. This shows that more and more number of people are migrating to these cities. But if this continues to happen, then would occur an imbalance in population in cities; that is more number of individuals would be jut living in popular cities leading to highly crowded city areas and comparatively low population in other areas of Ireland. To overcome this, government should take measures to promote migration to other parts of Ireland as well, such as giving incentives to people who shift/migrate to less populated counties, gradually increasing the facilities like transportation, food, jobs, etc. in such areas. So that people are attracted towards such areas also and they do think to live there rather than just staying in city areas.\n",
    "\n",
    "5) As seen in point 3), there are considerable amount of people for whom Nationality is not stated/recorded. Hence efforts should be taken to overcome this and care must be taken to keep the record of nationality of every individual. Having such information will definitely help the government or other organizations to make plans/policies by considering population percentage various different countires.\n",
    "\n",
    "6) We see that when we compare the number of males and females based on their field of study, the general trend is that in most fields, females are more compared to males. This may help the government/organizations to create appropriate job opportunities so that females can easily work in the field they have studied.\n",
    "\n",
    "7) Also when analysing the Education_Background data, we can see that for almost 87 electoral areas, there are no records of field of study of people living there. This may heavily impact as such huge loss of critical information leads to lack of capability of taking further steps/actions. From the education background of the mass, government can find what kind of fields of study are more common and which ones are upcoming/trending. This further helps in developing the job market accordingly, thus increasing the financial status of the society. Also if people get job in the same field in which they have studied, then they would definitely bring back great benefits and revolutions.\n",
    "\n",
    "8) We can study education aspect along with the employment sector and find relation between the two.\n",
    "\n",
    "9) We can check that most common type of families in different electoral areas is that having size of 2. Hence it can be said that most people prefer to live in pair/couple and not in big families. That is, nuclear families are more preferred by most of the population."
   ]
  }
 ],
 "metadata": {
  "kernelspec": {
   "display_name": "Python 3",
   "language": "python",
   "name": "python3"
  },
  "language_info": {
   "codemirror_mode": {
    "name": "ipython",
    "version": 3
   },
   "file_extension": ".py",
   "mimetype": "text/x-python",
   "name": "python",
   "nbconvert_exporter": "python",
   "pygments_lexer": "ipython3",
   "version": "3.8.8"
  }
 },
 "nbformat": 4,
 "nbformat_minor": 5
}
